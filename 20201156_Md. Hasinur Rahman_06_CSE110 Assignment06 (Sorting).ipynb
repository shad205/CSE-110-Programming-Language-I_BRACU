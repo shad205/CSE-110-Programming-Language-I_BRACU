{
 "cells": [
  {
   "cell_type": "markdown",
   "metadata": {
    "id": "oMYzsTcnHEll"
   },
   "source": [
    "# CSE110 Assignment 6\n",
    "\n",
    "\n",
    "## Write the Python code of the following problems:\n",
    "**<font color='red'>[MUST MAINTAIN VARIABLE NAMING CONVENTIONS FOR ALL THE TASKS]</font>**"
   ]
  },
  {
   "cell_type": "markdown",
   "metadata": {
    "id": "jT-t2zlnHEll"
   },
   "source": [
    "### Task 1\n",
    "\n",
    "Given a list named my_list. <br/>\n",
    "my_list=[10,1,20,3,6,2,5,11,15,2,12,14,17,18,29] <br/>\n",
    "Now use bubble sort to sort my_list into ascending order.\n",
    "\n",
    "**Output**<br/>\n",
    "[1, 2, 2, 3, 5, 6, 10, 11, 12, 14, 15, 17, 18, 20, 29]"
   ]
  },
  {
   "cell_type": "code",
   "execution_count": 6,
   "metadata": {
    "colab": {
     "base_uri": "https://localhost:8080/"
    },
    "executionInfo": {
     "elapsed": 1213,
     "status": "ok",
     "timestamp": 1607227835255,
     "user": {
      "displayName": "Mahrin Tasfe",
      "photoUrl": "https://lh3.googleusercontent.com/a-/AOh14GjLJ7sXkXqft7B5qITlXMOCijU0QpWeO-1YhLoj-g=s64",
      "userId": "05682083127640569309"
     },
     "user_tz": -360
    },
    "id": "7qXVakLgHElm",
    "outputId": "bfd4f48a-b5e7-43aa-eaee-3138901c9da8"
   },
   "outputs": [
    {
     "name": "stdout",
     "output_type": "stream",
     "text": [
      "[1, 2, 2, 3, 5, 6, 10, 11, 12, 14, 15, 17, 18, 20, 29]\n"
     ]
    }
   ],
   "source": [
    "#todo - Bubble sort starts arranging the elements from the top\n",
    "\n",
    "def Sort(my_list):\n",
    "    \n",
    "    for i in range(len(my_list)-1,0,-1):\n",
    "        \n",
    "        for j in range(i):\n",
    "            \n",
    "            if my_list[j] > my_list[j+1]:\n",
    "                \n",
    "                temp = my_list[j]\n",
    "                my_list[j] = my_list[j+1]\n",
    "                my_list[j+1] = temp\n",
    "\n",
    "my_list = [10,1,20,3,6,2,5,11,15,2,12,14,17,18,29]\n",
    "Sort(my_list)\n",
    "\n",
    "print(my_list)"
   ]
  },
  {
   "cell_type": "markdown",
   "metadata": {
    "id": "w1QgeWd2HElp"
   },
   "source": [
    "### Task 2\n",
    "\n",
    "Given a list named my_list. <br/>\n",
    "my_list=[10,1,20,3,6,2,5,11,15,2,12,14,17,18,29] <br/>\n",
    "Now use selection sort to sort my_list into ascending order.\n",
    "\n",
    "**Output**<br/>\n",
    "[1, 2, 2, 3, 5, 6, 10, 11, 12, 14, 15, 17, 18, 20, 29]\n",
    "\n"
   ]
  },
  {
   "cell_type": "code",
   "execution_count": 7,
   "metadata": {
    "colab": {
     "base_uri": "https://localhost:8080/"
    },
    "executionInfo": {
     "elapsed": 1112,
     "status": "ok",
     "timestamp": 1607227858897,
     "user": {
      "displayName": "Mahrin Tasfe",
      "photoUrl": "https://lh3.googleusercontent.com/a-/AOh14GjLJ7sXkXqft7B5qITlXMOCijU0QpWeO-1YhLoj-g=s64",
      "userId": "05682083127640569309"
     },
     "user_tz": -360
    },
    "id": "am0B_8ICHElq",
    "outputId": "09b1b568-37d3-474c-f56a-b0f99d3543c2"
   },
   "outputs": [
    {
     "name": "stdout",
     "output_type": "stream",
     "text": [
      "[1, 2, 2, 3, 5, 6, 10, 11, 12, 14, 15, 17, 18, 20, 29]\n"
     ]
    }
   ],
   "source": [
    "#todo Selection sort starts arranging the elements from the bottom\n",
    "\n",
    "def selectionSort(my_list):\n",
    "    \n",
    "   for index in range(len(my_list)-1,0,-1):\n",
    "       sum=0\n",
    "        \n",
    "       for i in range(1,index+1):\n",
    "           if my_list[i] > my_list[sum]:\n",
    "               sum = i\n",
    "\n",
    "       temp = my_list[index]\n",
    "       my_list[index] = my_list[sum]\n",
    "       my_list[sum] = temp\n",
    "\n",
    "my_list=[10,1,20,3,6,2,5,11,15,2,12,14,17,18,29]\n",
    "\n",
    "selectionSort(my_list)\n",
    "print(my_list)"
   ]
  },
  {
   "cell_type": "markdown",
   "metadata": {
    "id": "j4ffr2CAHElt"
   },
   "source": [
    "### Task  3\n",
    "\n",
    "Given a list named my_list. <br/>\n",
    "my_list=[10,1,20,3,6,2,5,11,15,2,12,14,17,18,29] <br/>\n",
    "Now use any of the two sorts used above to sort the list in descending order.\n",
    "\n",
    "**Output**<br/>\n",
    "[29, 20, 18, 17, 15, 14, 12, 11, 10, 6, 5, 3, 2, 2, 1]\n"
   ]
  },
  {
   "cell_type": "code",
   "execution_count": 1,
   "metadata": {
    "id": "n2X3YR-_HElt"
   },
   "outputs": [
    {
     "name": "stdout",
     "output_type": "stream",
     "text": [
      "[29, 20, 18, 17, 15, 14, 12, 11, 10, 6, 5, 3, 2, 2, 1]\n"
     ]
    }
   ],
   "source": [
    "#todo\n",
    "\n",
    "def sort(my_list):\n",
    "    \n",
    "    for index in range(len(my_list)-1,0,-1):\n",
    "        for i in range(index):\n",
    "            \n",
    "            if my_list[i] < my_list[i+1]:\n",
    "                temp = my_list[i]\n",
    "                my_list[i] = my_list[i+1]\n",
    "                my_list[i+1] = temp\n",
    "                \n",
    "my_list=[10,1,20,3,6,2,5,11,15,2,12,14,17,18,29]\n",
    "sort(my_list)\n",
    "\n",
    "print(my_list)"
   ]
  },
  {
   "cell_type": "markdown",
   "metadata": {
    "id": "9iYiiTWWHElw"
   },
   "source": [
    "### Task 4\n",
    "\n",
    "Suppose you have a sitting arrangement of the students of the final exam in a list. The list contains the last two digits of their roll number.<br/>\n",
    "\n",
    "sitting_list=[10,30,20,70,11,15,22,16,58,100,12,56,70,80] <br/>\n",
    "\n",
    "Now you want to organize the sitting arrangement. You decided to sort all the students in the even indices into ascending order and all the students in the odd indices  into descending order.  <br/>\n",
    "\n",
    "So write a python program that organizes the list for you the way you decided.<br/>\n",
    "\n",
    "\n",
    "**Sample Output**<br/>\n",
    "[10, 100, 11, 80, 12, 70, 20, 56, 22, 30, 58, 16, 70, 15]"
   ]
  },
  {
   "cell_type": "code",
   "execution_count": 1,
   "metadata": {
    "id": "nPdUAKDJHElw"
   },
   "outputs": [
    {
     "name": "stdout",
     "output_type": "stream",
     "text": [
      "[10, 100, 11, 80, 12, 70, 20, 56, 22, 30, 58, 16, 70, 15]\n"
     ]
    }
   ],
   "source": [
    "#todo\n",
    "\n",
    "\n",
    "def sort(list, reverse = False):\n",
    "    \n",
    "    for index in range(len(list)):\n",
    "        min = list[index]\n",
    "        min_idx = index\n",
    "        \n",
    "        for x in range(index+1,len(list)):\n",
    "            \n",
    "            if reverse == False:\n",
    "                \n",
    "                if min > list[x]:\n",
    "                    min = list[x]\n",
    "                    min_idx = x\n",
    "                    \n",
    "            elif reverse==True:\n",
    "                \n",
    "                if min < list[x]:\n",
    "                    min = list[x]\n",
    "                    min_idx = x\n",
    "                    \n",
    "        list[min_idx] = list[index]\n",
    "        list[index] = min\n",
    "    return list\n",
    "list_1 = [10,30,20,70,11,15,22,16,58,100,12,56,70,80]\n",
    "even_dict = []\n",
    "odd_dict = []\n",
    "\n",
    "for index in range(len(list_1)):\n",
    "    \n",
    "    if index%2 == 0:\n",
    "        even_dict.append(list_1[index])\n",
    "    else:\n",
    "        odd_dict.append(list_1[index])\n",
    "        \n",
    "sort_even_dict = sort(even_dict)\n",
    "sort_odd_dict = sort(odd_dict, reverse = True)\n",
    "sort_list_1 = []\n",
    "loop = len(sort_even_dict) + len(sort_odd_dict)\n",
    "even_i = 0\n",
    "odd_i = 0\n",
    "\n",
    "for index in range(loop):\n",
    "    \n",
    "    if index%2 == 0:\n",
    "        sort_list_1.append(sort_even_dict[even_i])\n",
    "        even_i = even_i+1\n",
    "    else:\n",
    "        sort_list_1.append(sort_odd_dict[odd_i])\n",
    "        odd_i = odd_i+1\n",
    "        /\n",
    "        \n",
    "print(sort_list_1)"
   ]
  },
  {
   "cell_type": "markdown",
   "metadata": {
    "id": "oVR1Tsa0HElz"
   },
   "source": [
    "### Task 5\n",
    "\n",
    "Suppose a list contains the final exam results of CSE110, PHY111, and MAT110 of each student in a listed form. Your task is to sort the list based on a course name that will be given by the user and print the names after sorting. <br/>\n",
    "\n",
    "For example, a list looks like <br/>\n",
    "lst = [ [\"Farzad\",95,87,91] , [\"Mahjabin\",92,90,83], [\"Sadman\",87,92,80], [\"Nakhla\",85,94,90] ] <br/>\n",
    "where for each list, 1st index is name, 2nd index is CSE110, 3rd index is PHY111 and 4th index is MAT110. \n",
    "\n",
    "=====================================================\n",
    "\n",
    "**Hint:**<br/>\n",
    "create a function for sorting, then call it everytime instead of rewriting the code.\n",
    "\n",
    "Get the data in the individual lists from the given nested list.\n",
    "\n",
    "=====================================================\n",
    "\n",
    "**Sample Input**<br/>\n",
    "MAT110\n",
    "\n",
    "**Sample Output**<br/>\n",
    "Farzad <br/>\n",
    "Nakhla <br/>\n",
    "Mahjabin <br/>\n",
    "Sadman\n",
    "\n",
    "\n"
   ]
  },
  {
   "cell_type": "code",
   "execution_count": 5,
   "metadata": {
    "id": "539b2P1NHElz"
   },
   "outputs": [
    {
     "name": "stdout",
     "output_type": "stream",
     "text": [
      "Enter the subject: PHY111\n",
      "Nakhla\n",
      "Sadman\n",
      "Mahjabin\n",
      "Farzad\n"
     ]
    }
   ],
   "source": [
    "#todo\n",
    "\n",
    "lst = [[\"Farzad\",97,87,91],['Mahjabin',92,90,83],[\"Sadman\",87,92,80],[\"Nakhla\",85,94,90]]\n",
    "a = input(\"Enter the subject: \")\n",
    "\n",
    "if a == \"CSE110\":\n",
    "    idx=1\n",
    "    \n",
    "elif a == \"PHY111\":\n",
    "    idx=2\n",
    "    \n",
    "elif a == \"MAT110\":\n",
    "    idx=3\n",
    "    \n",
    "for i in range(len(lst)-1):\n",
    "    for j in range(len(lst)-1-i):\n",
    "        \n",
    "        if lst[j][idx] < lst[j+1][idx]:\n",
    "            temp = lst[j]\n",
    "            lst[j] = lst[j+1]\n",
    "            lst[j+1] = temp\n",
    "            \n",
    "for k in range(len(lst)):\n",
    "    \n",
    "    print(lst[k][0])"
   ]
  },
  {
   "cell_type": "markdown",
   "metadata": {
    "id": "B0Rqbyi4HEl2"
   },
   "source": [
    "### Task 6\n",
    "\n",
    "Suppose you have a list named my_list. Your task is to sort the list and print the count of numbers that have changed their position. <br/>\n",
    "my_list = [4,2,3,1,6,5] <br/>\n",
    "Sorted list would be [1,2,3,4,5,6] where 4 numbers have changed their position.\n",
    "\n",
    "\n",
    "**Sample Output**<br/>\n",
    "4"
   ]
  },
  {
   "cell_type": "code",
   "execution_count": 6,
   "metadata": {
    "id": "AMc8jAa7HEl2"
   },
   "outputs": [
    {
     "name": "stdout",
     "output_type": "stream",
     "text": [
      "4\n"
     ]
    }
   ],
   "source": [
    "#todo\n",
    "\n",
    "my_list = [4,2,3,1,6,5]\n",
    "\n",
    "for index in range(4,5):\n",
    "    check = False\n",
    "    \n",
    "for i in range(4,5):\n",
    "    \n",
    "    if my_list[i] > my_list[i+1]:\n",
    "        exchange = my_list[i]\n",
    "        my_list[i] = my_list[i+1]\n",
    "        my_list[i+1] = exchange\n",
    "        check = True\n",
    "        \n",
    "    if check == False:\n",
    "        break\n",
    "        \n",
    "print(index)"
   ]
  },
  {
   "cell_type": "markdown",
   "metadata": {
    "id": "iIH5n0sJHEl5"
   },
   "source": [
    "### Task 7\n",
    "\n",
    "Write a python program that takes two lists from the user, merges the two lists, sorts the list, and find the median of the elements of the two lists.\n",
    "\n",
    "=====================================================\n",
    "\n",
    "\n",
    "**Sample Input 1**<br/>\n",
    "list_one = [1,2,1,4] <br/>\n",
    "list_two = [5,4,1]\n",
    "\n",
    "\n",
    "**Sample Output 1**<br/>\n",
    "Sorted list = [1, 1, 1, 2, 4, 4, 5] <br/>\n",
    "Median = 2\n",
    "\n",
    "=====================================================\n",
    "\n",
    "\n",
    "**Sample Input 2**<br/>\n",
    "list_one= [1,7,9,10] <br/>\n",
    "list_two= [2,7,6,5]\n",
    "\n",
    "\n",
    "**Sample Output 2**<br/>\n",
    "Sorted list=[1, 2, 5, 6, 7, 7, 9, 10] <br/>\n",
    "Median=6.5\n",
    "\n"
   ]
  },
  {
   "cell_type": "code",
   "execution_count": 11,
   "metadata": {
    "id": "KsFxC7XbHEl6"
   },
   "outputs": [
    {
     "name": "stdout",
     "output_type": "stream",
     "text": [
      "[1, 2, 5, 6, 7, 7, 9, 10]\n",
      "Median = 6.5\n"
     ]
    }
   ],
   "source": [
    "#todo\n",
    "\n",
    "def addition(list_1,list_2):\n",
    "    list_3 = list_1 + list_2\n",
    "    length = len(list_3)\n",
    "    \n",
    "    for index in range(len(list_3)):\n",
    "        l_1 = list_3[index]\n",
    "        l_2 = index\n",
    "        \n",
    "        for i in range(index+1, len(list_3)):\n",
    "            if list_3[i] < l_1:\n",
    "                l_1 = list_3[i]\n",
    "                l_2 = i\n",
    "                \n",
    "        x = list_3[l_2]\n",
    "        list_3[l_2] = list_3[index]\n",
    "        list_3[index] = x\n",
    "        \n",
    "    if length%2 != 0:\n",
    "        a = list_3[length // 2]\n",
    "    else:\n",
    "        b = (length // 2) - 1\n",
    "        c = (length // 2)\n",
    "        a = (list_3[b] + list_3[c]) / 2\n",
    "    \n",
    "    print(list_3)\n",
    "    print(\"Median = \", end=\"\")\n",
    "    return a\n",
    "\n",
    "list_one= [1,7,9,10]\n",
    "list_two= [2,7,6,5]\n",
    "\n",
    "l = addition(list_one,list_two)\n",
    "print(l)"
   ]
  },
  {
   "cell_type": "markdown",
   "metadata": {
    "id": "-XKiwBR1HEl8"
   },
   "source": [
    "### Task 8\n",
    "\n",
    "\n",
    "Write a python program that takes a list from user containing both positive and negative numbers. The program then finds two pairs of values whose summation is closest to zero.\n",
    "\n",
    "=====================================================\n",
    "\n",
    "**Sample Input 1**<br/>\n",
    "list_one = [-10,15,2,4,-4,7,-8] \n",
    "\n",
    "\n",
    "**Sample Output 1**<br/>\n",
    "Two pairs which have the smallest sum = 4 and -4\n",
    "\n",
    "=====================================================\n",
    "\n",
    "\n",
    "**Sample Input 2**<br/>\n",
    "list_one = [1,-8,4,-7,-20,26,70,-85]\n",
    "\n",
    "\n",
    "**Sample Output 2**<br/>\n",
    "Two pairs which have the smallest sum = 4 and -7"
   ]
  },
  {
   "cell_type": "code",
   "execution_count": 5,
   "metadata": {
    "id": "5ORSGa5GHEl9"
   },
   "outputs": [
    {
     "name": "stdout",
     "output_type": "stream",
     "text": [
      "Two pairs which have the smallest sum = 4 and -7\n"
     ]
    }
   ],
   "source": [
    "#todo\n",
    "\n",
    "def my_list(list): \n",
    "    \n",
    "    length = len(list)\n",
    "    list1 = 0\n",
    "    list2 = 1\n",
    "    addition = list[0] + list[1] \n",
    "    \n",
    "    for i in range (0, length): \n",
    "        for j in range (i + 1, length): \n",
    "            x = list[i] + list[j] \n",
    "            \n",
    "            if abs(addition) > abs(x):          \n",
    "                addition = x\n",
    "                list1 = i \n",
    "                list2 = j  \n",
    "                \n",
    "    print(\"Two pairs which have the smallest sum =\", list[list1], \"and\", list[list2]) \n",
    "    \n",
    "list_one = [1,-8,4,-7,-20,26,70,-85] \n",
    "my_list(list_one)"
   ]
  },
  {
   "cell_type": "code",
   "execution_count": null,
   "metadata": {},
   "outputs": [],
   "source": []
  }
 ],
 "metadata": {
  "colab": {
   "collapsed_sections": [],
   "name": "CSE110 Assignment06 (Sorting).ipynb",
   "provenance": []
  },
  "kernelspec": {
   "display_name": "Python 3",
   "language": "python",
   "name": "python3"
  },
  "language_info": {
   "codemirror_mode": {
    "name": "ipython",
    "version": 3
   },
   "file_extension": ".py",
   "mimetype": "text/x-python",
   "name": "python",
   "nbconvert_exporter": "python",
   "pygments_lexer": "ipython3",
   "version": "3.8.3"
  }
 },
 "nbformat": 4,
 "nbformat_minor": 1
}
