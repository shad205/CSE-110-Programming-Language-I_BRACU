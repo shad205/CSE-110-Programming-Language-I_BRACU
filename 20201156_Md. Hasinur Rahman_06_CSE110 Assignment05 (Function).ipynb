{
 "cells": [
  {
   "cell_type": "markdown",
   "metadata": {
    "id": "mRHB9cBf5D7V"
   },
   "source": [
    "# CSE110 Assignment 5\n",
    "This assignment is to guide you to solve everything you have learned so far by implementing functions in Python. \n",
    "\n",
    "**<font color='red'>[MUST MAINTAIN VARIABLE NAMING CONVENTIONS FOR ALL THE TASKS]</font>**\n",
    "\n",
    "## Write the Python code of the following problems:\n"
   ]
  },
  {
   "cell_type": "markdown",
   "metadata": {
    "id": "_uzpm0b85D7Z"
   },
   "source": [
    "### Task 1\n",
    "Write a function called **even_checker** that takes a number as an argument and prints whether the number is even or odd **inside the function**.\n",
    "\n",
    "===================================\n",
    "\n",
    "**Example1:** \\\n",
    "**Function Call:**\\\n",
    "even_checker(5)\\\n",
    "**Output:**\\\n",
    "Odd!!\n",
    "\n",
    "=============================\n",
    "\n",
    "**Example2:** \\\n",
    "**Function Call:**\\\n",
    "even_checker(2)\\\n",
    "**Output:**\\\n",
    "Even!!\n",
    "\n"
   ]
  },
  {
   "cell_type": "code",
   "execution_count": 7,
   "metadata": {
    "executionInfo": {
     "elapsed": 1282,
     "status": "ok",
     "timestamp": 1604848704777,
     "user": {
      "displayName": "Mahrin Tasfe",
      "photoUrl": "https://lh3.googleusercontent.com/a-/AOh14GjLJ7sXkXqft7B5qITlXMOCijU0QpWeO-1YhLoj-g=s64",
      "userId": "05682083127640569309"
     },
     "user_tz": -360
    },
    "id": "tMMBecSe5D7a"
   },
   "outputs": [
    {
     "name": "stdout",
     "output_type": "stream",
     "text": [
      "Enter the number: 8\n",
      "Even!!\n"
     ]
    }
   ],
   "source": [
    "# to do\n",
    "\n",
    "def even_checker(x):\n",
    "    \n",
    "    if x%2 == 0:\n",
    "        print(\"Even!!\")\n",
    "    else:\n",
    "        print(\"Odd!!\")\n",
    "        \n",
    "x = int(input(\"Enter the number: \"))\n",
    "\n",
    "even_checker(x)"
   ]
  },
  {
   "cell_type": "markdown",
   "metadata": {
    "id": "YFKgn6Yw5D7f"
   },
   "source": [
    "### Task 2\n",
    "Write a python function that takes the limit as an argument of the Fibonacci series and prints till that limit. \n",
    "\n",
    "===================================\n",
    "\n",
    "**Function Call:**\\\n",
    "fibonacci(10)\\\n",
    "**Output:**\\\n",
    "0 1 1 2 3 5 8\\\n",
    "======================\\\n",
    "**Function Call:**\\\n",
    "fibonacci(5)\\\n",
    "**Output:**\\\n",
    "0 1 1 2 3 5 "
   ]
  },
  {
   "cell_type": "code",
   "execution_count": 10,
   "metadata": {
    "executionInfo": {
     "elapsed": 1922,
     "status": "ok",
     "timestamp": 1604848705423,
     "user": {
      "displayName": "Mahrin Tasfe",
      "photoUrl": "https://lh3.googleusercontent.com/a-/AOh14GjLJ7sXkXqft7B5qITlXMOCijU0QpWeO-1YhLoj-g=s64",
      "userId": "05682083127640569309"
     },
     "user_tz": -360
    },
    "id": "J4ab_IeA5D7g"
   },
   "outputs": [
    {
     "name": "stdout",
     "output_type": "stream",
     "text": [
      "Enter the number: 10\n",
      "0 1 1 2 3 5 8 "
     ]
    }
   ],
   "source": [
    "# to do\n",
    "\n",
    "def fibonacci(x):\n",
    "    \n",
    "    a = 0\n",
    "    b = 1\n",
    "    print(a, end = \" \")\n",
    "    print(b, end = \" \")\n",
    "    \n",
    "    while(a+b <= x):\n",
    "        c = a+b\n",
    "        a = b\n",
    "        b = c\n",
    "        print(c, end = \" \")\n",
    "        \n",
    "x = int(input(\"Enter the number: \"))\n",
    "fibonacci(x)"
   ]
  },
  {
   "cell_type": "markdown",
   "metadata": {
    "id": "rDY_xNcO5D7k"
   },
   "source": [
    "### Task 3\n",
    "Write a function called **foo_moo** that takes a number as an argument and **returns** the following statements according the below mention conditions. Then, finally prints the statement in the function call. \n",
    "\n",
    "* \tIf the number is divisible by 2, it should return \"Foo\".\n",
    "*   If the number is divisible by 3, it should return \"Moo\". \n",
    "*   If the number is divisible by both 2 and 3, it should return \"FooMoo\".\n",
    "*   Otherwise, it returns \"Boo\".\n",
    "\n",
    "===================================\n",
    "\n",
    "**Example1:** \\\n",
    "**Function Call:**\\\n",
    "foo_moo(5)\\\n",
    "**Output:**\\\n",
    "Boo\n",
    "\n",
    "=================\n",
    "\n",
    "\n",
    "**Example2:** \\\n",
    "**Function Call:**\\\n",
    "foo_moo(4)\\\n",
    "**Output:**\\\n",
    "Foo\n",
    "\n",
    "=================\n",
    "\n",
    "\n",
    "**Example3:** \\\n",
    "**Function Call:**\\\n",
    "foo_moo(6)\\\n",
    "**Output:**\\\n",
    "FooMoo\n",
    "\n"
   ]
  },
  {
   "cell_type": "code",
   "execution_count": 9,
   "metadata": {
    "executionInfo": {
     "elapsed": 1920,
     "status": "ok",
     "timestamp": 1604848705424,
     "user": {
      "displayName": "Mahrin Tasfe",
      "photoUrl": "https://lh3.googleusercontent.com/a-/AOh14GjLJ7sXkXqft7B5qITlXMOCijU0QpWeO-1YhLoj-g=s64",
      "userId": "05682083127640569309"
     },
     "user_tz": -360
    },
    "id": "2roUcNrC5D7l"
   },
   "outputs": [
    {
     "name": "stdout",
     "output_type": "stream",
     "text": [
      "Foo\n"
     ]
    }
   ],
   "source": [
    "# to do\n",
    "\n",
    "def foo_moo(int):\n",
    "    \n",
    "    if int%2 == 0 and int%3 == 0:\n",
    "        print(\"FooMoo\")\n",
    "        \n",
    "    elif int%3 == 0:\n",
    "        print(\"Moo\")\n",
    "        \n",
    "    elif int%2 == 0:\n",
    "        print(\"Foo\")\n",
    "        \n",
    "    else:\n",
    "        print(\"Boo\")\n",
    "        \n",
    "foo_moo(4)"
   ]
  },
  {
   "cell_type": "markdown",
   "metadata": {
    "id": "nemw1U-i5D7s"
   },
   "source": [
    "### Task 4\n",
    "Write a python function that takes a string as an argument. Your task is to calculate the number of uppercase letters and lowercase letters and print them in the function. \n",
    "\n",
    "===================================\n",
    "\n",
    "**Function Call:**\\\n",
    "function_name('The quick Sand Man')\\\n",
    "**Output:**\\\n",
    "No. of Uppercase characters : 3\\\n",
    "No. of Lowercase Characters: 12\\\n",
    "============================\\\n",
    "**Function Call:**\\\n",
    "function_name('HaRRy PotteR')\\\n",
    "**Output:**\\\n",
    "No. of Uppercase characters : 5\\\n",
    "No. of Lowercase Characters: 6\n"
   ]
  },
  {
   "cell_type": "code",
   "execution_count": 16,
   "metadata": {
    "executionInfo": {
     "elapsed": 1918,
     "status": "ok",
     "timestamp": 1604848705424,
     "user": {
      "displayName": "Mahrin Tasfe",
      "photoUrl": "https://lh3.googleusercontent.com/a-/AOh14GjLJ7sXkXqft7B5qITlXMOCijU0QpWeO-1YhLoj-g=s64",
      "userId": "05682083127640569309"
     },
     "user_tz": -360
    },
    "id": "4ZBb4Mcr5D7t"
   },
   "outputs": [
    {
     "name": "stdout",
     "output_type": "stream",
     "text": [
      "The quick Sand Man\n",
      "No. of Uppercase characters :  3\n",
      "No. of Lowercase Characters:  12\n"
     ]
    }
   ],
   "source": [
    "# to do\n",
    "\n",
    "def function_name(x):\n",
    "    dict = {\"Uppercase\":0, \"Lowercase\":0}\n",
    "    \n",
    "    for index in x:\n",
    "        if index.isupper():\n",
    "            dict[\"Uppercase\"] += 1\n",
    "            \n",
    "        elif index.islower():\n",
    "            dict[\"Lowercase\"] += 1\n",
    "            \n",
    "    print(x)        \n",
    "    print(\"No. of Uppercase characters : \", dict[\"Uppercase\"])\n",
    "    print(\"No. of Lowercase Characters: \", dict[\"Lowercase\"])\n",
    "    \n",
    "function_name('The quick Sand Man')"
   ]
  },
  {
   "cell_type": "markdown",
   "metadata": {
    "id": "e9bojIHe5D7w"
   },
   "source": [
    "### Task 5\n",
    "Write a function called **calculate_tax** that takes 3 arguments: your age, salary, and current job designation.\n",
    "\n",
    "\n",
    "Your first task is to take these arguments as user input and pass these values to the function.\n",
    "\n",
    "Your second task is to implement the function and calculate the tax as the following conditions:\n",
    "*  **NO TAX IF YOU ARE LESS THAN 18 YEARS OLD.**\n",
    "*  **NO TAX IF YOU ARE THE PRESIDENT OF THE COMPANY** \n",
    "*  No tax if you get paid less than 10,000\n",
    "*  5% tax if you get paid between 10K and 20K\n",
    "*  10% tax if you get paid more than 20K\n",
    "\n",
    "\n",
    "Finally return this tax value. Then print the returned value in the function call.\n",
    "\n",
    "===================================\n",
    "\n",
    "**Hints:**\\\n",
    "Here the job designation is a string, so it can be written in both uppercase and lower cases. So, you need to check the value ignoring the case.\n",
    "\n",
    "===================================\n",
    "\n",
    "**Example1:** \\\n",
    "**Input:**\\\n",
    "16\\\n",
    "20000\\\n",
    "Student\\\n",
    "**Function Call:**\\\n",
    "calculate_tax(16, 20000, 'Student')\\\n",
    "**Output:**\\\n",
    "0\n",
    "\n",
    "===================================\n",
    "\n",
    "**Example2:** \\\n",
    "**Input:**\\\n",
    "20\\\n",
    "18000\\\n",
    "assistant manager\\\n",
    "**Function Call:**\\\n",
    "calculate_tax(20, 18000, 'assistant manager')\\\n",
    "**Output:**\\\n",
    "900.0\n",
    "\n",
    "\n",
    "===================================\n",
    "\n",
    "**Example3:** \\\n",
    "**Input:**\\\n",
    "20\\\n",
    "22000\\\n",
    "assistant manager\\\n",
    "**Function Call:**\\\n",
    "calculate_tax(20, 22000, 'Assistant manager')\\\n",
    "**Output:**\\\n",
    "2200.0\n",
    "\n",
    "===================================\n",
    "\n",
    "\n",
    "**Example4:** \\\n",
    "**Input:**\\\n",
    "20\\\n",
    "122000\\\n",
    "president\\\n",
    "**Function Call:**\\\n",
    "calculate_tax(20, 122000, 'president')\\\n",
    "**Output:**\\\n",
    "0\n",
    " \n",
    "\n",
    "\n"
   ]
  },
  {
   "cell_type": "code",
   "execution_count": 18,
   "metadata": {
    "executionInfo": {
     "elapsed": 1917,
     "status": "ok",
     "timestamp": 1604848705425,
     "user": {
      "displayName": "Mahrin Tasfe",
      "photoUrl": "https://lh3.googleusercontent.com/a-/AOh14GjLJ7sXkXqft7B5qITlXMOCijU0QpWeO-1YhLoj-g=s64",
      "userId": "05682083127640569309"
     },
     "user_tz": -360
    },
    "id": "M4oo-FKQ5D7x"
   },
   "outputs": [
    {
     "name": "stdout",
     "output_type": "stream",
     "text": [
      "Enter the age: 20\n",
      "Enter the salart: 22000\n",
      "Enter the present_job: assistant manager\n",
      "2200.0\n"
     ]
    }
   ],
   "source": [
    "# to do\n",
    "\n",
    "def calculate_tax(age, salary, present_job):\n",
    "    \n",
    "    if age < 18:        \n",
    "        print(\"0\")  \n",
    "        \n",
    "    elif age > 18 and present_job.upper() == \"PRESIDENT\":       \n",
    "        print(\"0\")  \n",
    "        \n",
    "    elif int(salary) < 10000:\n",
    "        print('0')\n",
    "        \n",
    "    elif int(salary) > 10000 and int(salary) <= 20000:\n",
    "        print(5*int(salary)/100)\n",
    "        \n",
    "    elif int(salary) > 20000:\n",
    "        print(10*int(salary)/100)\n",
    "        \n",
    "age=int(input(\"Enter the age: \"))\n",
    "salary=int(input(\"Enter the salart: \"))\n",
    "present_job=input(\"Enter the present_job: \")\n",
    "\n",
    "calculate_tax(age,salary,present_job)"
   ]
  },
  {
   "cell_type": "markdown",
   "metadata": {
    "id": "VXLQHyLp5D71"
   },
   "source": [
    "### Task 6\n",
    "Write a function which will take 1 argument, number of days.\n",
    "\n",
    "Your first task is to take the number of days as user input and pass the value to the function.\n",
    " \n",
    "Your second task is to implement the function and calculate the total number of years, number of months, and the remaining number of days as output. No need to return any value, print inside the function. \n",
    "\n",
    "**Note:** Assume, each year to be 365 days and month to be 30 days.\n",
    "\n",
    "=====================================================\n",
    "\n",
    "**Hint(1):** \\\n",
    "Divide and mod the main input to get the desired output.\n",
    "\n",
    "**Hint(2):**\n",
    "This task’s calculation is similar to Assignment-1’s seconds to hours, minutes conversion.\n",
    "\n",
    "=====================================================\n",
    "\n",
    "**Example01**\n",
    "\n",
    "**Input:**\\\n",
    "4330\\\n",
    "**Function Call:**\\\n",
    "function_name(4330)\\\n",
    "**Output:**\\\n",
    "11 years, 10 months and 15 days\n",
    "\n",
    "================================\n",
    "\n",
    "**Example02**\n",
    "\n",
    "**Input:**\\\n",
    "2250\\\n",
    "**Function Call:**\\\n",
    "function_name(2250)\\\n",
    "**Output:**\\\n",
    "6 years, 2 months and 0 days\n",
    "\n",
    "\n"
   ]
  },
  {
   "cell_type": "code",
   "execution_count": 20,
   "metadata": {
    "executionInfo": {
     "elapsed": 1915,
     "status": "ok",
     "timestamp": 1604848705425,
     "user": {
      "displayName": "Mahrin Tasfe",
      "photoUrl": "https://lh3.googleusercontent.com/a-/AOh14GjLJ7sXkXqft7B5qITlXMOCijU0QpWeO-1YhLoj-g=s64",
      "userId": "05682083127640569309"
     },
     "user_tz": -360
    },
    "id": "gkE9d9gs5D72"
   },
   "outputs": [
    {
     "name": "stdout",
     "output_type": "stream",
     "text": [
      "Enter the number: 4330\n",
      "11 years 10 months and 15 days\n"
     ]
    }
   ],
   "source": [
    "# todo\n",
    "\n",
    "def function_name(extra_day): \n",
    "    \n",
    "    year = extra_day / 365\n",
    "    value = extra_day % 365\n",
    "    month = value / 30\n",
    "    days = value % 30\n",
    "    \n",
    "    print(int(year),\"years\", int(month),\"months and\", days,\"days\") \n",
    "    \n",
    "function_name(int(input(\"Enter the number: \")))"
   ]
  },
  {
   "cell_type": "markdown",
   "metadata": {
    "id": "8-vvES0i5D8B"
   },
   "source": [
    "### Task 7\n",
    "Write a function called **show_palindrome** that takes a number as an argument and then returns a palindrome string. Finally, prints the returned value in the function call.\n",
    "\n",
    "=====================================================\n",
    "\n",
    "**Example1:** \\\n",
    "**Function Call:**\\\n",
    "show_palindrome(5)\\\n",
    "**Output:**\\\n",
    "123454321\n",
    "\n",
    "===================\n",
    "\n",
    "**Example2:** \\\n",
    "**Function Call:**\\\n",
    "show_palindrome(3)\\\n",
    "**Output:**\\\n",
    "12321\n"
   ]
  },
  {
   "cell_type": "code",
   "execution_count": 4,
   "metadata": {
    "executionInfo": {
     "elapsed": 1914,
     "status": "ok",
     "timestamp": 1604848705426,
     "user": {
      "displayName": "Mahrin Tasfe",
      "photoUrl": "https://lh3.googleusercontent.com/a-/AOh14GjLJ7sXkXqft7B5qITlXMOCijU0QpWeO-1YhLoj-g=s64",
      "userId": "05682083127640569309"
     },
     "user_tz": -360
    },
    "id": "QN-Iu8sz5D8C"
   },
   "outputs": [
    {
     "name": "stdout",
     "output_type": "stream",
     "text": [
      "1 2 3 4 5 6 7 8 9 10 9 8 7 6 5 4 3 2 1 \n"
     ]
    }
   ],
   "source": [
    "# to do\n",
    "\n",
    "def show_palindrome(int):\n",
    "    \n",
    "    for index in range(1,int+1):\n",
    "        print(index, end=\" \")\n",
    "        \n",
    "    for x in range((int+1) -2,0,-1):\n",
    "        print(x, end = \" \")\n",
    "    \n",
    "    print()\n",
    "    \n",
    "show_palindrome(10)"
   ]
  },
  {
   "cell_type": "markdown",
   "metadata": {
    "id": "V_PVNpx45D8F"
   },
   "source": [
    "### Task 8\n",
    "Write a function called **show_palindromic_triangle** that takes a number as an argument and prints a Palindromic Triangle in the function.\n",
    "\n",
    "=====================================================\n",
    "\n",
    "**Hints(1):** \\\n",
    "Need to use both print() and print( , end = \" \") functions\n",
    "\n",
    "**Hints(2):** \\\n",
    "You can reuse the function from the previous task.\n",
    "\n",
    "=====================================================\n",
    "\n",
    "**Example1:** \\\n",
    "**Function Call:**\\\n",
    "show_palindromic_triangle(5)\\\n",
    "**Output:**\n",
    "\n",
    "&emsp; &emsp; &emsp; &emsp; 1\\\n",
    "&emsp; &emsp; &emsp; 1 &nbsp; 2 &nbsp; 1 \\\n",
    "&emsp; &emsp; 1 &nbsp; 2 &nbsp; 3 &nbsp; 2 &nbsp; 1 \\\n",
    "&emsp; 1 &nbsp; 2 &nbsp; 3 &nbsp; 4 &nbsp; 3 &nbsp; 2 &nbsp; 1 \\\n",
    "1 &nbsp; 2 &nbsp; 3 &nbsp; 4 &nbsp; 5 &nbsp; 4 &nbsp; 3 &nbsp; 2 &nbsp; 1\n",
    "\n",
    "=============================================================\n",
    "\n",
    "\n",
    "**Example2:** \\\n",
    "**Function Call:**\\\n",
    "show_palindromic_triangle(3)\\\n",
    "**Output:**\n",
    "\n",
    "&emsp; &emsp; 1 \\\n",
    "&emsp; 1 &nbsp; 2 &nbsp; 1 \\\n",
    "1 &nbsp; 2 &nbsp; 3 &nbsp; 2 &nbsp; 1\n",
    "\n",
    "\n"
   ]
  },
  {
   "cell_type": "code",
   "execution_count": 22,
   "metadata": {
    "executionInfo": {
     "elapsed": 1912,
     "status": "ok",
     "timestamp": 1604848705426,
     "user": {
      "displayName": "Mahrin Tasfe",
      "photoUrl": "https://lh3.googleusercontent.com/a-/AOh14GjLJ7sXkXqft7B5qITlXMOCijU0QpWeO-1YhLoj-g=s64",
      "userId": "05682083127640569309"
     },
     "user_tz": -360
    },
    "id": "fUu0BrHz5D8G"
   },
   "outputs": [
    {
     "name": "stdout",
     "output_type": "stream",
     "text": [
      "      1 \n",
      "    1 2 1 \n",
      "  1 2 3 2 1 \n"
     ]
    }
   ],
   "source": [
    "# to do\n",
    "\n",
    "def show_palindrome_traiangle(number): \n",
    "    \n",
    "    odd = 1\n",
    "    space = number    \n",
    "    \n",
    "    for index in range(1, number+1):\n",
    "        a = 0  \n",
    "        \n",
    "        for x in range(1, space+1):\n",
    "            print(\" \" , end = \" \") \n",
    "            \n",
    "        for x in range(1, odd+1):\n",
    "            \n",
    "            if(x <= index):\n",
    "                a += 1                \n",
    "            else:\n",
    "                a -= 1   \n",
    "                \n",
    "            print(a, end = \" \")            \n",
    "        print()    \n",
    "        \n",
    "        odd += 2\n",
    "        space -= 1 \n",
    "        \n",
    "show_palindrome_traiangle(3)"
   ]
  },
  {
   "cell_type": "markdown",
   "metadata": {
    "id": "iLTMEWXg5D8M"
   },
   "source": [
    "### Task 09\n",
    "Write a function called **area_circumference_generator** that takes a radius of a circle as a  function parameter and calculates its circumference and area. Then returns these two results as a **tuple** and prints the results using tuple unpacking in the function call accorrding to the given format. <font color='red'>[Must use tuple packing & unpacking] </font> \n",
    "\n",
    "=====================================================\n",
    "\n",
    "**Example1:** \\\n",
    "**Function Call:**\\\n",
    "area_circumference_generator(1)\\\n",
    "**Output:**\\\n",
    "(3.141592653589793, 6.283185307179586)\\\n",
    "Area of the circle is 3.141592653589793 and circumference is 6.283185307179586\n",
    "\n",
    "====================================\n",
    "\n",
    "**Example2:** \\\n",
    "**Function Call:**\\\n",
    "area_circumference_generator(1.5)\\\n",
    "**Output:**\\\n",
    "(7.0685834705770345, 9.42477796076938)\\\n",
    "Area of the circle is 7.0685834705770345 and circumference is 9.42477796076938\n",
    "\n",
    "====================================\n",
    "\n",
    "\n",
    "**Example3:** \\\n",
    "**Function Call:**\\\n",
    "area_circumference_generator(2.5)\\\n",
    "**Output:**\\\n",
    "(19.634954084936208, 15.707963267948966)\\\n",
    "Area of the circle is 19.634954084936208 and circumference is 15.707963267948966\n"
   ]
  },
  {
   "cell_type": "code",
   "execution_count": 27,
   "metadata": {
    "executionInfo": {
     "elapsed": 1911,
     "status": "ok",
     "timestamp": 1604848705427,
     "user": {
      "displayName": "Mahrin Tasfe",
      "photoUrl": "https://lh3.googleusercontent.com/a-/AOh14GjLJ7sXkXqft7B5qITlXMOCijU0QpWeO-1YhLoj-g=s64",
      "userId": "05682083127640569309"
     },
     "user_tz": -360
    },
    "id": "k8SLTHf35D8N"
   },
   "outputs": [
    {
     "name": "stdout",
     "output_type": "stream",
     "text": [
      "(7.0685834705770345, 9.42477796076938)\n",
      "Area of the circle is 7.0685834705770345 and circumference is 9.42477796076938\n"
     ]
    }
   ],
   "source": [
    "# to do\n",
    "\n",
    "import math\n",
    "def area_circumference_generator(rad):\n",
    "    x = math.pi*rad**2\n",
    "    y = 2*math.pi*rad\n",
    "    \n",
    "    tup = x,y\n",
    "    print(tup)\n",
    "    \n",
    "    print(\"Area of the circle is\",x, \"and circumference is\", y)\n",
    "    \n",
    "area_circumference_generator(1.5)"
   ]
  },
  {
   "cell_type": "markdown",
   "metadata": {
    "id": "NpgEU6ZI5D8S"
   },
   "source": [
    "### Task 10\n",
    "Write a function called **make_square** that takes a tuple in the parameter as a range of numbers (starting point and ending point (included)). The function should **return a dictionary** with the numbers as keys and its squares as values.\n",
    "\n",
    "=====================================================\n",
    "\n",
    "**Hints:** \\\n",
    "You need to declare a dictionary to store the result. You should use the range function to run the “for loop”.\n",
    "\n",
    "\n",
    "=====================================================\n",
    "\n",
    "**Example1:** \\\n",
    "**Function Call:**\\\n",
    "make_square((1,3))\\\n",
    "**Output:**\\\n",
    "{1: 1, 2: 4, 3: 9}\n",
    "\n",
    "====================================\n",
    "\n",
    "**Example2:** \\\n",
    "**Function Call:**\\\n",
    "make_square((5,9))\\\n",
    "**Output:**\\\n",
    "{5: 25, 6: 36, 7: 49, 8: 64, 9: 81}\n",
    "\n",
    "\n",
    "\n"
   ]
  },
  {
   "cell_type": "code",
   "execution_count": 30,
   "metadata": {
    "executionInfo": {
     "elapsed": 1910,
     "status": "ok",
     "timestamp": 1604848705428,
     "user": {
      "displayName": "Mahrin Tasfe",
      "photoUrl": "https://lh3.googleusercontent.com/a-/AOh14GjLJ7sXkXqft7B5qITlXMOCijU0QpWeO-1YhLoj-g=s64",
      "userId": "05682083127640569309"
     },
     "user_tz": -360
    },
    "id": "-KGD8b0F5D8T"
   },
   "outputs": [
    {
     "name": "stdout",
     "output_type": "stream",
     "text": [
      "{1: 1, 2: 4, 3: 9}\n"
     ]
    }
   ],
   "source": [
    "# to do\n",
    "\n",
    "def make_square(int):\n",
    "    dict = {}\n",
    "    \n",
    "    for index in range(int[0],int[1] + 1):\n",
    "        dict[index] = index ** 2\n",
    "        \n",
    "    return dict\n",
    "\n",
    "print(make_square((1,3)))"
   ]
  },
  {
   "cell_type": "markdown",
   "metadata": {
    "id": "J7xaBB5i5D8c"
   },
   "source": [
    "### Task 11\n",
    "Write a function called **rem_duplicate** that takes a tuple in the parameter and return a tuple removing all the duplicate values. Then print the returned tuple in the function call.\n",
    "\n",
    "=====================================================\n",
    "\n",
    "**Hints:** \\\n",
    "Unlike lists, tuples are immutable so, the tuple taken as an argument cannot be modified. But list can be modified and lastly for returning the result use type conversion. You need to use membership operators (in, not in) for preventing adding any duplicates values.\n",
    "\n",
    "=====================================================\n",
    "\n",
    "\n",
    "**Example1:** \\\n",
    "**Function Call:**\\\n",
    "rem_duplicate((1,1,1,2,3,4,5,6,6,6,6,4,0,0,0))\\\n",
    "**Output:**\\\n",
    "(1, 2, 3, 4, 5, 6, 0)\n",
    "\n",
    "====================================\n",
    "\n",
    "**Example2:** \\\n",
    "**Function Call:**\\\n",
    "rem_duplicate((\"Hi\", 1, 2, 3, 3, \"Hi\",'a', 'a', [1,2]))\\\n",
    "**Output:**\\\n",
    "('Hi', 1, 2, 3, 'a', [1, 2])\n",
    "\n",
    "\n",
    "\n"
   ]
  },
  {
   "cell_type": "code",
   "execution_count": 3,
   "metadata": {
    "executionInfo": {
     "elapsed": 1907,
     "status": "ok",
     "timestamp": 1604848705428,
     "user": {
      "displayName": "Mahrin Tasfe",
      "photoUrl": "https://lh3.googleusercontent.com/a-/AOh14GjLJ7sXkXqft7B5qITlXMOCijU0QpWeO-1YhLoj-g=s64",
      "userId": "05682083127640569309"
     },
     "user_tz": -360
    },
    "id": "mniLLbJY5D8d"
   },
   "outputs": [
    {
     "name": "stdout",
     "output_type": "stream",
     "text": [
      "(1, 2, 3, 4, 5, 6, 0)\n"
     ]
    }
   ],
   "source": [
    "# to do\n",
    "\n",
    "def rem_duplicate(x):\n",
    "    list_1 = list(x)\n",
    "    list_2 = []\n",
    "    \n",
    "    for index in list_1:\n",
    "        \n",
    "        if index not in list_2 :\n",
    "            list_2 .append(index)\n",
    "            \n",
    "    return list_2 \n",
    "\n",
    "print(tuple(rem_duplicate((1,1,1,2,3,4,5,6,6,6,6,4,0,0,0))))"
   ]
  },
  {
   "cell_type": "markdown",
   "metadata": {
    "id": "yJxb2yrb5D8h"
   },
   "source": [
    "### Task 12\n",
    "Write a python function that takes a list as an argument. Your task is to create a new list where **each element can be present at max 2 times**. Inside the function, print the number of elements removed from the given list. Finally, return the new list and print the result.\n",
    "\n",
    "=====================================================\n",
    "\n",
    "**Hint:** Use list_name.count(element) to count the total number of times an element is in a list. list_name is your new list for this problem.\n",
    "\n",
    "=====================================================\n",
    "\n",
    "**Function Call:**\\\n",
    "function_name([1, 2, 3, 3, 3, 3, 4, 5, 8, 8])\\\n",
    "**Output:**\\\n",
    "Removed: 2\\\n",
    "[1, 2, 3, 3, 4, 5, 8, 8]\\\n",
    "================================\\\n",
    "**Function Call:**\\\n",
    "function_name([10, 10, 15, 15, 20])\\\n",
    "**Output:**\\\n",
    "Removed: 0\\\n",
    "[10, 10, 15, 15, 20]"
   ]
  },
  {
   "cell_type": "code",
   "execution_count": 4,
   "metadata": {
    "executionInfo": {
     "elapsed": 1907,
     "status": "ok",
     "timestamp": 1604848705430,
     "user": {
      "displayName": "Mahrin Tasfe",
      "photoUrl": "https://lh3.googleusercontent.com/a-/AOh14GjLJ7sXkXqft7B5qITlXMOCijU0QpWeO-1YhLoj-g=s64",
      "userId": "05682083127640569309"
     },
     "user_tz": -360
    },
    "id": "URBhYdgt5D8h"
   },
   "outputs": [
    {
     "name": "stdout",
     "output_type": "stream",
     "text": [
      "Remove:  2 \n",
      " [1, 2, 3, 3, 4, 5, 8, 8]\n"
     ]
    }
   ],
   "source": [
    "# todo\n",
    "\n",
    "def function_name(number):\n",
    "    list = []\n",
    "    x = 0\n",
    "    \n",
    "    for index in number:\n",
    "        \n",
    "        if (list.count(index) == 2):\n",
    "            x += 1\n",
    "            continue\n",
    "        else:\n",
    "            list.append(index)\n",
    "        \n",
    "    print(\"Remove: \",x,\"\\n\",list)\n",
    "    \n",
    "function_name([1, 2, 3, 3, 3, 3, 4, 5, 8, 8])"
   ]
  },
  {
   "cell_type": "markdown",
   "metadata": {
    "id": "vqET24dk5D8u"
   },
   "source": [
    "### Task 13\n",
    "Write a python function that will perform the basic calculation (addition, subtraction, multiplication and division) based on 3 arguments. They are:\n",
    "- Operator ('+', '-', '/', '*')\n",
    "- First Operand (any number)\n",
    "- Second Operand (any number)\n",
    "\n",
    "Your first task is to take these arguments as user input and pass the values to the function parameters.\n",
    "\n",
    "Your second task is to write a function and performs the calculation based on the given operator. Then, finally return the result in the function call and print the result.\n",
    "\n",
    "=====================================================\n",
    "\n",
    "**Input:**\\\n",
    "\"+\"\\\n",
    "10\\\n",
    "20\\\n",
    "**Function Call:**\\\n",
    "function_name(\"+\", 10, 20)\\\n",
    "**Output:**\\\n",
    "30.0\n",
    "\n",
    "================================\n",
    "\n",
    "**Input:**\\\n",
    "\"*\"\\\n",
    "5.5\\\n",
    "2.5\\\n",
    "**Function Call:**\\\n",
    "function_name(\"*\", 5.5, 2.5)\\\n",
    "**Output:**\\\n",
    "13.75\n"
   ]
  },
  {
   "cell_type": "code",
   "execution_count": 9,
   "metadata": {
    "executionInfo": {
     "elapsed": 1906,
     "status": "ok",
     "timestamp": 1604848705431,
     "user": {
      "displayName": "Mahrin Tasfe",
      "photoUrl": "https://lh3.googleusercontent.com/a-/AOh14GjLJ7sXkXqft7B5qITlXMOCijU0QpWeO-1YhLoj-g=s64",
      "userId": "05682083127640569309"
     },
     "user_tz": -360
    },
    "id": "sh7YQRv_5D8v"
   },
   "outputs": [
    {
     "name": "stdout",
     "output_type": "stream",
     "text": [
      "+\n",
      "10\n",
      "20\n",
      "30.0\n"
     ]
    }
   ],
   "source": [
    "# to do\n",
    "\n",
    "Operator = input(\"\")\n",
    "First_Operand = float(input(\"\"))\n",
    "Second_Operand = float(input(\"\"))\n",
    "\n",
    "def function_name(a,b,c):    \n",
    "    x = 0\n",
    "    \n",
    "    if Operator == \"+\":\n",
    "        x = int(First_Operand + Second_Operand)\n",
    "        \n",
    "    elif Operator == \"-\":\n",
    "        x = int(First_Operand - Second_Operand)\n",
    "        \n",
    "    elif Operator == \"*\":\n",
    "        x = int(First_Operand * Second_Operand)\n",
    "        \n",
    "    elif Operator == \"/\":\n",
    "        x = int(First_Operand / Second_Operand) \n",
    "        \n",
    "    print(float(x))  \n",
    "    \n",
    "function_name(Operator, First_Operand, Second_Operand)"
   ]
  },
  {
   "cell_type": "markdown",
   "metadata": {
    "id": "KGitjtfO5D83"
   },
   "source": [
    "### Task 14\n",
    "Write a function which will take 2 arguments. They are:\n",
    "- Sentence \n",
    "- position \n",
    "\n",
    "Your first task is to take these arguments as user input and pass these values to the function parameters.\n",
    "\n",
    "Your second task is to implement the function and remove the characters at the index number which is divisible by the position (Avoid the index number 0 as it will always be divisible by the position, so no need to remove the index 0 character). \n",
    "Finally, add the removed characters at the end of the new string.\n",
    "\n",
    "Return the value and then finally, print the new string at the function call.\n",
    "\n",
    "=====================================================\n",
    "\n",
    "**Input:**\\\n",
    "\"I love programming.\"\\\n",
    "3\\\n",
    "**Function call:**\\\n",
    "function_name(\"I love programming.\", 3)\\\n",
    "**Output:**\\\n",
    "I lveprgrmmngo oai.\n",
    "\n",
    "==============================================\n",
    "\n",
    "**Input:**\\\n",
    "\"Python is easy to learn. I love python.\"\\\n",
    "6\\\n",
    "**Function call:**\\\n",
    "function_name(\"Python is easy to learn. I love python.\", 6)\\\n",
    "**Output:**\\\n",
    "Pythonis eay to earn.I lov pythn. sl eo\n"
   ]
  },
  {
   "cell_type": "code",
   "execution_count": 14,
   "metadata": {
    "executionInfo": {
     "elapsed": 1904,
     "status": "ok",
     "timestamp": 1604848705431,
     "user": {
      "displayName": "Mahrin Tasfe",
      "photoUrl": "https://lh3.googleusercontent.com/a-/AOh14GjLJ7sXkXqft7B5qITlXMOCijU0QpWeO-1YhLoj-g=s64",
      "userId": "05682083127640569309"
     },
     "user_tz": -360
    },
    "id": "1Op6YcHY5D84"
   },
   "outputs": [
    {
     "name": "stdout",
     "output_type": "stream",
     "text": [
      "I love programming\n",
      "3\n",
      "I lveprgrmmngo oai\n"
     ]
    }
   ],
   "source": [
    "#todo\n",
    "\n",
    "def function_name(word,position):\n",
    "    \n",
    "    string = word[0]\n",
    "    hold = \"\"\n",
    "    \n",
    "    for index in range(len(word)):\n",
    "        if index == 0:\n",
    "            continue\n",
    "        elif index % position == 0:\n",
    "            hold = hold + word[index]\n",
    "        else:\n",
    "            string = string + word[index]\n",
    "    \n",
    "    combined = string + hold\n",
    "    return combined\n",
    "\n",
    "word = input()\n",
    "position = int(input())\n",
    "\n",
    "print(function_name(word,position))"
   ]
  },
  {
   "cell_type": "markdown",
   "metadata": {
    "id": "5Gq0ZAzQ5D8-"
   },
   "source": [
    "### Task 15\n",
    "You have been hired as an app developer for the company. The company plans to make an app for a grocery store where the user can order groceries and see the total amount to be paid in the cart section. \n",
    "\n",
    "To build this feature, you have to write a function that takes 2 arguments. They are:\n",
    "- order_items (must be a list)\n",
    "- location (default value should be set to \"Dhanmondi\")\n",
    "\n",
    "Your first task is to take a list of items from the user. Pass the list into the function parameter along with the optional location (Use default argument technique). (Also, no need to take location as input, pass this any value you want.) \n",
    "\n",
    "Your second task is to implement the function. In the function, create a dictionary for the items shown in the table. Calculate the total price of the items passed as a list to the function. Additionally, add a delivery fee of 30 taka if the location is Dhanmondi. Otherwise, add a delivery fee of 70 taka. Finally, return the value and print it.\n",
    "\n",
    "| Item | Price(Tk) |\n",
    "| --- | --- |\n",
    "| Rice | 105 |\n",
    "| Potato | 20 |\n",
    "| Chicken | 250 |\n",
    "| Beef | 510 |\n",
    "| Oil | 85 |\n",
    "\n",
    "=====================================================\n",
    "\n",
    "**Hint:** The keys are the items and values are the corresponding price. Iterate the items in the list and check if the items in the list are available in the dictionary keys or not. If it is available, add the price.\n",
    "\n",
    "=====================================================\n",
    "\n",
    "**Example:**\\\n",
    "function_name([\"Rice\", \"Beef\", \"Rice\"], \"Mohakhali\")\n",
    "\n",
    "total = 105 + 510 + 105 = 720 (Take the price of each item and add them.)\\\n",
    "total = 720 + 70 = 790 (Finally, add the delivery fee based on the location.)\n",
    "\n",
    "**Input:**\\\n",
    "[\"Rice\", \"Beef\", \"Rice\"]\\\n",
    "**Function Call:**\\\n",
    "function_name([\"Rice\", \"Beef\", \"Rice\"], \"Mohakhali\")\\\n",
    "**Output:**\\\n",
    "790\n",
    "\n",
    "==============================================\n",
    "\n",
    "**Input:**\\\n",
    "[\"Rice\", \"Beef\", \"Rice\"]\\\n",
    "**Function Call:**\\\n",
    "function_name([\"Rice\", \"Beef\", \"Rice\"])\\\n",
    "**Output:**\\\n",
    "750"
   ]
  },
  {
   "cell_type": "code",
   "execution_count": 16,
   "metadata": {
    "executionInfo": {
     "elapsed": 1904,
     "status": "ok",
     "timestamp": 1604848705432,
     "user": {
      "displayName": "Mahrin Tasfe",
      "photoUrl": "https://lh3.googleusercontent.com/a-/AOh14GjLJ7sXkXqft7B5qITlXMOCijU0QpWeO-1YhLoj-g=s64",
      "userId": "05682083127640569309"
     },
     "user_tz": -360
    },
    "id": "KqbU53QPblRv"
   },
   "outputs": [
    {
     "name": "stdout",
     "output_type": "stream",
     "text": [
      "750\n"
     ]
    }
   ],
   "source": [
    "#todo\n",
    "\n",
    "def function_name(list,location = \"Dhanmondi\"):\n",
    "    price = {\"Rice\":105,\"Potato\":20,\"Chicken\":250,\"Beef\":510,\"Oil\":85}\n",
    "    add = 0\n",
    "    \n",
    "    for index in range(len(list)):\n",
    "        if list[index] in price:\n",
    "            add += price[list[index]]\n",
    "            \n",
    "    if location == \"Dhanmondi\":\n",
    "        last_add = add + 30\n",
    "        \n",
    "    else:\n",
    "        last_add = add + 70\n",
    "        \n",
    "    print(last_add)\n",
    "    \n",
    "function_name([\"Rice\", \"Beef\", \"Rice\"])"
   ]
  },
  {
   "cell_type": "markdown",
   "metadata": {
    "id": "sWkvpVVmbT5n"
   },
   "source": [
    "## Optional Tasks (16 -20) [Ungraded]"
   ]
  },
  {
   "cell_type": "markdown",
   "metadata": {
    "id": "LIi7SUJLZ4gA"
   },
   "source": [
    "### Task 16\n",
    "Write a function called **splitting_money** that takes an “amount” of money as a argument.\n",
    "\n",
    "Your first task is to take the “amount” of money as user input and pass the value to the function paramater.\n",
    " \n",
    "Your second task is to implement the function and calculate how that money can be split into 500, 100, 50, 20, 10, 5, 2, and 1 taka notes.\n",
    "\n",
    "Then print the returned value in the function call.\n",
    "\n",
    "=====================================================\n",
    "\n",
    "\n",
    "**Hints:** \\\n",
    "This task’s calculation is similar to Assignment-1’s seconds to hours, minutes conversion. To return the result containing multiple strings, you need to store it in a variable and return it at the end of the function.\n",
    "\n",
    "=====================================================\n",
    "\n",
    "\n",
    "**Example1:** \\\n",
    "If the money is 1234, then the function should return \n",
    "\n",
    "\"500 Taka: 2 note(s) \\\n",
    "100 Taka: 2 note(s) \\\n",
    "20 Taka: 1 note(s) \\\n",
    "10 Taka: 1 note(s) \\\n",
    "2 Taka: 2 note(s)\"\n",
    "\n",
    "=====================================================\n",
    "\n",
    "**Example2:** \\\n",
    "If the money is 151, then the function should return\n",
    "\n",
    "\"100 Taka: 1 note(s)\\\n",
    "50 Taka: 1 note(s)\\\n",
    "1 Taka: 1 note(s)\"\n",
    "\n",
    "\n"
   ]
  },
  {
   "cell_type": "code",
   "execution_count": 16,
   "metadata": {
    "executionInfo": {
     "elapsed": 1902,
     "status": "ok",
     "timestamp": 1604848705433,
     "user": {
      "displayName": "Mahrin Tasfe",
      "photoUrl": "https://lh3.googleusercontent.com/a-/AOh14GjLJ7sXkXqft7B5qITlXMOCijU0QpWeO-1YhLoj-g=s64",
      "userId": "05682083127640569309"
     },
     "user_tz": -360
    },
    "id": "XI1uLQ5rb2oH"
   },
   "outputs": [],
   "source": [
    "#todo"
   ]
  },
  {
   "cell_type": "markdown",
   "metadata": {
    "id": "VpnhnPPcab5J"
   },
   "source": [
    "### Task 17\n",
    "Write a function called **remove_odd** that takes a list of numbers that have both even and odd numbers mixed. \\\n",
    "Your function should remove all the odd numbers and **return a compact list** which only contains the even numbers. \n",
    "\n",
    "=====================================================\n",
    "\n",
    "**Example1:** \\\n",
    "**Function Call:**\\\n",
    "remove_odd ([21, 33, 44, 66, 11, 1, 88, 45, 10, 9])\\\n",
    "**Output:**\\\n",
    "[44, 66, 88, 10]\n",
    "\n",
    "====================================\n",
    "\n",
    "**Example2:** \\\n",
    "**Function Call:**\\\n",
    "remove_odd ([11,2,3,4,5,2,0,5,3])\\\n",
    "**Output:**\\\n",
    "[2, 4, 2, 0]\n",
    "\n"
   ]
  },
  {
   "cell_type": "code",
   "execution_count": 17,
   "metadata": {
    "executionInfo": {
     "elapsed": 1900,
     "status": "ok",
     "timestamp": 1604848705433,
     "user": {
      "displayName": "Mahrin Tasfe",
      "photoUrl": "https://lh3.googleusercontent.com/a-/AOh14GjLJ7sXkXqft7B5qITlXMOCijU0QpWeO-1YhLoj-g=s64",
      "userId": "05682083127640569309"
     },
     "user_tz": -360
    },
    "id": "y4dR2jV6bAYw"
   },
   "outputs": [],
   "source": [
    "#todo"
   ]
  },
  {
   "cell_type": "markdown",
   "metadata": {
    "id": "8qAKekKWbBnP"
   },
   "source": [
    "### Task 18\n",
    "Write a function which will take 4 arguments. They are:\n",
    "- starting value(inclusive)\n",
    "- ending value(exclusive)\n",
    "- first divisor\n",
    "- second divisor\n",
    "\n",
    "Your first task is to take these arguments as user input and pass these values to the function.\n",
    "\n",
    "Your second task is to implement the function and find all the numbers that are divisible by the <u> **first divisor or second divisor but not both**</u> from the starting value(inclusive) and ending value(exclusive). Add all the numbers that are divisible and finally return this value. Print the returned value in the function call.\n",
    "\n",
    "=====================================================\n",
    "\n",
    "**Input:**\\\n",
    "10\\\n",
    "40\\\n",
    "4\\\n",
    "7\\\n",
    "**Function Call:**\\\n",
    "function_name(10, 40, 4, 7)\\\n",
    "**Output:**\\\n",
    "210\\\n",
    "================================\\\n",
    "**Input:**\\\n",
    "5\\\n",
    "100\\\n",
    "3\\\n",
    "4\\\n",
    "**Function Call:**\\\n",
    "function_name(5, 100, 3, 4)\\\n",
    "**Output:**\\\n",
    "2012\n",
    "\n",
    "\n"
   ]
  },
  {
   "cell_type": "code",
   "execution_count": 18,
   "metadata": {
    "executionInfo": {
     "elapsed": 1900,
     "status": "ok",
     "timestamp": 1604848705434,
     "user": {
      "displayName": "Mahrin Tasfe",
      "photoUrl": "https://lh3.googleusercontent.com/a-/AOh14GjLJ7sXkXqft7B5qITlXMOCijU0QpWeO-1YhLoj-g=s64",
      "userId": "05682083127640569309"
     },
     "user_tz": -360
    },
    "id": "-vQ3gIWm5D8-"
   },
   "outputs": [],
   "source": [
    "#todo"
   ]
  },
  {
   "cell_type": "markdown",
   "metadata": {
    "id": "0poe59Q-aAtP"
   },
   "source": [
    "### Task 19\n",
    "Write a python function which will take a string as an argument. \n",
    "\n",
    "Your first task is to take a string as user input and pass the value to the function.\n",
    "\n",
    "Your second task is to implement a function which will check whether all the alphabets from a to j (convert all the alphabets to lowercase) has appeared at least once in the given string or not. \n",
    "- If all of these alphabets (a to j) appear at least once, then the result will be 5. \n",
    "- If any one of the alphabets (a to j) is not in the given string, then the result will be 6.\n",
    "\n",
    "Return this result and print the statement, \"Chelsea is the best club in England\" that many times.\n",
    "\n",
    "=====================================================\n",
    "\n",
    "**Example01:**\n",
    "\"A black jackal is hunting a full grown deer\" \n",
    "\n",
    "Here all the alphabets from A to J are present at least once. So, the function will return 5 and will print the statement 5 times.\n",
    "\n",
    "**Input:**\\\n",
    "\"A black jackal is hunting a full grown deer\"\\\n",
    "**Function Call:**\\\n",
    "function_name(\"A black jackal is hunting a full grown deer\")\\\n",
    "**Output:**\\\n",
    "Chelsea is the best club in England\\\n",
    "Chelsea is the best club in England\\\n",
    "Chelsea is the best club in England\\\n",
    "Chelsea is the best club in England\\\n",
    "Chelsea is the best club in England\n",
    "\n",
    "==============================================\n",
    "\n",
    "**Example02:**\n",
    "\n",
    "**Input:**\\\n",
    "\"ABBCDEFEFGHI\"\\\n",
    "**Function Call:**\\\n",
    "function_name(\"ABBCDEFEFGHI\")\\\n",
    "**Output:**\\\n",
    "Chelsea is the best club in England\\\n",
    "Chelsea is the best club in England\\\n",
    "Chelsea is the best club in England\\\n",
    "Chelsea is the best club in England\\\n",
    "Chelsea is the best club in England\\\n",
    "Chelsea is the best club in England\n"
   ]
  },
  {
   "cell_type": "code",
   "execution_count": 19,
   "metadata": {
    "executionInfo": {
     "elapsed": 1897,
     "status": "ok",
     "timestamp": 1604848705434,
     "user": {
      "displayName": "Mahrin Tasfe",
      "photoUrl": "https://lh3.googleusercontent.com/a-/AOh14GjLJ7sXkXqft7B5qITlXMOCijU0QpWeO-1YhLoj-g=s64",
      "userId": "05682083127640569309"
     },
     "user_tz": -360
    },
    "id": "uQRx3Kclb57h"
   },
   "outputs": [],
   "source": [
    "#todo"
   ]
  },
  {
   "cell_type": "markdown",
   "metadata": {
    "id": "XGLNNSH25D9B"
   },
   "source": [
    "### Task 20\n",
    "You have been hired by the Abahani football club to write a function that will calculate the total bonus on the yearly earnings of each player for the total goals they have scored. Since the number of players will vary, you decide to use the \"*args\" technique that you learned in your CSE110 class. (No need to take any input from the user. Call the functions and print the values inside the function.) \n",
    "For each player: pass the name, yearly earning, the total goal scored this season, bonus percent per goal. Additionally, if the goal scored is above 30, add an extra bonus of 10000 taka. If it is between 20 and 30 inclusive, add an extra 5000 taka.\n",
    "\n",
    "=====================================================\n",
    "\n",
    "**Example:**\\\n",
    "function_name(\"Neymar\", 1200000, 30, 10)\n",
    "\n",
    "bonus = 30 * (10 / 100 * 1200000) + 5000 = 3605000\n",
    "\n",
    "**Function call:**\\\n",
    "function_name(\"Neymar\", 1200000, 30, 10)\\\n",
    "**Output:**\\\n",
    "Neymar earned a bonus of 3605000 Taka for 30 goals.\n",
    "\n",
    "=====================================================\n",
    "\n",
    "**Function call:**\\\n",
    "function_name(\"Neymar\", 1200000, 30, 10, \"Jamal\", 700000, 19, 5)\\\n",
    "**Output:**\\\n",
    "Neymar earned a bonus of 3605000 Taka for 30 goals.\\\n",
    "Jamal earned a bonus of 665000 Taka for 19 goals.\n",
    "\n",
    "\n",
    "\n"
   ]
  },
  {
   "cell_type": "code",
   "execution_count": 20,
   "metadata": {
    "executionInfo": {
     "elapsed": 1896,
     "status": "ok",
     "timestamp": 1604848705435,
     "user": {
      "displayName": "Mahrin Tasfe",
      "photoUrl": "https://lh3.googleusercontent.com/a-/AOh14GjLJ7sXkXqft7B5qITlXMOCijU0QpWeO-1YhLoj-g=s64",
      "userId": "05682083127640569309"
     },
     "user_tz": -360
    },
    "id": "IIz3msUa5D9B"
   },
   "outputs": [],
   "source": [
    "# to do"
   ]
  }
 ],
 "metadata": {
  "colab": {
   "collapsed_sections": [],
   "name": "CSE110 Assignment05 (Function).ipynb",
   "provenance": []
  },
  "kernelspec": {
   "display_name": "Python 3",
   "language": "python",
   "name": "python3"
  },
  "language_info": {
   "codemirror_mode": {
    "name": "ipython",
    "version": 3
   },
   "file_extension": ".py",
   "mimetype": "text/x-python",
   "name": "python",
   "nbconvert_exporter": "python",
   "pygments_lexer": "ipython3",
   "version": "3.8.3"
  }
 },
 "nbformat": 4,
 "nbformat_minor": 1
}
