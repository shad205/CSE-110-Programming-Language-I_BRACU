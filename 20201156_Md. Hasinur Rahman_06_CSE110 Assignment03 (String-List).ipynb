{
 "cells": [
  {
   "cell_type": "markdown",
   "metadata": {
    "id": "xDNsncrtU1yM"
   },
   "source": [
    "# CSE110 Assignment 3\n",
    "\n"
   ]
  },
  {
   "cell_type": "markdown",
   "metadata": {
    "id": "gh4GUDaIU1yO"
   },
   "source": [
    "\n",
    "## Write the Python code of the following problems:\n",
    "\n",
    "**<font color='red'>[MUST MAINTAIN VARIABLE NAMING CONVENTIONS FOR ALL THE TASKS]</font>**\n",
    "\n",
    "## Part 1: String\n",
    "\n",
    "\n",
    "\n"
   ]
  },
  {
   "cell_type": "markdown",
   "metadata": {
    "id": "KD4EKJf6U1yQ"
   },
   "source": [
    "### Task 1 \n",
    "\n",
    "Write a Python program that will ask the user to input a string (containing exactly one word). Then your program should print a subsequent substring of the given string.\n",
    "\n",
    "=====================================================================\n",
    "\n",
    "**Example1:**\\\n",
    "Input: BANGLA\\\n",
    "Output:\\\n",
    "B\\\n",
    "BA\\\n",
    "BAN\\\n",
    "BANG\\\n",
    "BANGL\\\n",
    "BANGLA\n",
    "\n",
    "=====================================================================\n",
    "\n",
    "**Example2:**\\\n",
    "Input: DREAM\\\n",
    "Output:\\\n",
    "D\\\n",
    "DR\\\n",
    "DRE\\\n",
    "DREA\\\n",
    "DREAM\n",
    "\n",
    "=====================================================================\n",
    "\n",
    "**Hints(1):** Need to use \"for loop\" for this task.\n",
    "\n",
    "**Hints(2):** Need to use print() function for printing newlines.\n",
    "\n",
    "For example:\\\n",
    "print(1)\\\n",
    "print(2)\n",
    "\n",
    "Output:\\\n",
    "1\\\n",
    "2\n",
    "\n",
    "=====================================================================\n",
    "\n",
    "We need use print(end = \"\") to skip printing the additional newline.\n",
    "\n",
    "For example:\\\n",
    "print(1, end =\" \")\\\n",
    "print(2)\n",
    "\n",
    "Output:(prints the next output right to the previous one)\\\n",
    "12\n",
    "\n",
    "=====================================================================\n",
    "\n",
    "\n",
    "\n",
    "\n"
   ]
  },
  {
   "cell_type": "code",
   "execution_count": 1,
   "metadata": {
    "id": "vJhpmj2XU1yR"
   },
   "outputs": [
    {
     "name": "stdout",
     "output_type": "stream",
     "text": [
      "python\n",
      "p\n",
      "py\n",
      "pyt\n",
      "pyth\n",
      "pytho\n",
      "python\n"
     ]
    }
   ],
   "source": [
    "#Todo\n",
    "\n",
    "x = input()\n",
    "length = len(x)\n",
    "\n",
    "for i in range(length):\n",
    "    print(x[0:i+1])"
   ]
  },
  {
   "cell_type": "markdown",
   "metadata": {
    "id": "pbdeIVcyU1yi"
   },
   "source": [
    "### Task2\n",
    "\n",
    "Write a Python program that will ask the user to enter a  word as an input. \n",
    "\n",
    "* If the length of the input string is less than 4, then your program should print the same string as an output. \n",
    "* If the input string’s length is greater than 3, then your program should add \"er\" at the end of the input string. \n",
    "* If the input string already ends with \"er\", then add \"est\" instead. \n",
    "* If the input string already ends with \"est\", then your program should print the same input string as an output.\n",
    "\n",
    "=====================================================================\n",
    "\n",
    "**Example 1:**\\\n",
    "Input: strong\\\n",
    "Output: stronger\n",
    "\n",
    "=====================================================================\n",
    "\n",
    "**Example 2:**\\\n",
    "Input: stronger\\\n",
    "Output: strongest\n",
    "\n",
    "=====================================================================\n",
    "\n",
    "**Example 3:**\\\n",
    "Input: strongest\\\n",
    "Output: strongest\n",
    "\n",
    "=====================================================================\n",
    "\n",
    "**Example 4:**\\\n",
    "Input: abc\\\n",
    "Output: abc\n"
   ]
  },
  {
   "cell_type": "code",
   "execution_count": 13,
   "metadata": {
    "id": "A5df9pmJU1yj"
   },
   "outputs": [
    {
     "name": "stdout",
     "output_type": "stream",
     "text": [
      "cutest\n",
      "cutest\n"
     ]
    }
   ],
   "source": [
    "#todo\n",
    "\n",
    "x = input()\n",
    "y = len(x)\n",
    "a = x [-2 :]\n",
    "b = x [-3 :]\n",
    "\n",
    "if y < 4:\n",
    "    print(x)\n",
    "    \n",
    "if y > 3 and a != \"er\" and (b != \"est\"):\n",
    "    print(x + \"er\")\n",
    "    \n",
    "if a == \"er\":\n",
    "    print(x[0 : (y-2)] + \"est\")\n",
    "    \n",
    "if b == \"est\":\n",
    "    print(x)"
   ]
  },
  {
   "cell_type": "markdown",
   "metadata": {
    "id": "PsBbgc4YU1yp"
   },
   "source": [
    "### Task3\n",
    "\n",
    "Write a Python program that will ask the user to input a string (containing exactly one word). Then print code for each character in the String using the ord() function. Use any means necessary.\n",
    "\n",
    "To check if your program is working correctly or not, you can find a list of all correct values from the following website. Look at “Dec” and “Char” columns only, ignore other columns.\\\n",
    "link: http://www.asciitable.com/\n",
    "\n",
    "=====================================================================\n",
    "\n",
    "**Example 1:**\\\n",
    "Input: Programming\\\n",
    "Output:\\\n",
    "P : 80\\\n",
    "r : 114\\\n",
    "o : 111\\\n",
    "g : 103\\\n",
    "r : 114\\\n",
    "a : 97\\\n",
    "m : 109\\\n",
    "m : 109\\\n",
    "i : 105\\\n",
    "n : 110\\\n",
    "g : 103\n",
    "\n",
    "=====================================================================\n",
    "\n",
    "**Example 2:**\\\n",
    "Input: hunger\\\n",
    "Output:\\\n",
    "h : 104\\\n",
    "u : 117\\\n",
    "n : 110\\\n",
    "g : 103\\\n",
    "e : 101\\\n",
    "r : 114 "
   ]
  },
  {
   "cell_type": "code",
   "execution_count": 6,
   "metadata": {
    "id": "r8by7ONZU1ys"
   },
   "outputs": [
    {
     "name": "stdout",
     "output_type": "stream",
     "text": [
      "python\n",
      "p : 112\n",
      "y : 121\n",
      "t : 116\n",
      "h : 104\n",
      "o : 111\n",
      "n : 110\n"
     ]
    }
   ],
   "source": [
    "#todo\n",
    "\n",
    "w = input()\n",
    "x = 0\n",
    "y = len(w)\n",
    "\n",
    "for i in range(y):\n",
    "    n = w [x:i + 1]\n",
    "    print(n, \":\", ord(n))\n",
    "    \n",
    "    x += 1"
   ]
  },
  {
   "cell_type": "markdown",
   "metadata": {
    "id": "O8lIVppgU1yw"
   },
   "source": [
    "### Task4\n",
    "\n",
    "Given a word as input in small letters, print the next alphabet in sequence for each alphabet found in the input.\n",
    "\n",
    "=====================================================================\n",
    "\n",
    "\n",
    "*Hint: You need to use functions ord() and chr(). The ASCII value of ‘a’ is 97 and ‘z’ is 122.*\n",
    "\n",
    "=====================================================================\n",
    "\n",
    "**Example1:**\\\n",
    "Input: abcd\\\n",
    "Output: bcde\n",
    "\n",
    "**Example2:**\\\n",
    "Input: the cow\\\n",
    "Output: uif!dpx\n",
    "\n",
    "**Example3: <font color='red'>[Must fulfil this criteria]</font>**\\\n",
    "Input: xyzabc\\\n",
    "Output: yzabcd\n",
    "\n",
    "\n"
   ]
  },
  {
   "cell_type": "code",
   "execution_count": 9,
   "metadata": {
    "id": "Hyvy8WNNU1yx"
   },
   "outputs": [
    {
     "name": "stdout",
     "output_type": "stream",
     "text": [
      "kascbn\n",
      "lbtdco"
     ]
    }
   ],
   "source": [
    "#todo\n",
    "\n",
    "w = input()\n",
    "x = len(w)\n",
    "\n",
    "for i in range(x):\n",
    "    a = ord(w[i])\n",
    "    if a == 122:\n",
    "        print(chr(97), end=\"\")\n",
    "        \n",
    "    elif a != 122:\n",
    "        b = a+1\n",
    "        print(chr(b), end=\"\")"
   ]
  },
  {
   "cell_type": "markdown",
   "metadata": {
    "id": "leVtdAsdymXM"
   },
   "source": [
    "### Task 5\n",
    "\n",
    "Write a Python program that will ask the user to enter two strings (s1, s2) as an input. Then create a mixed string with alternative characters from each string. Any leftover chars will be appended at the end of the result string.\n",
    "\n",
    "=====================================================================\n",
    "\n",
    "*Hint: For adding the leftover characters use string slicing.*\n",
    "\n",
    "=====================================================================\n",
    "\n",
    "**Example 1:**\\\n",
    "Input:\\\n",
    "\"ABCD\"\\\n",
    "\"efgh\"\n",
    "\n",
    "Output:\\\n",
    "AeBfCgDh\n",
    "\n",
    "=====================================================================\n",
    "\n",
    "**Example 2:**\\\n",
    "Input:\\\n",
    "\"ABCDENDFGH\"\\\n",
    "\"ijkl\"\n",
    "\n",
    "Output:\\\n",
    "AiBjCkDlENDFGH\n",
    "\n",
    "=====================================================================\n",
    "\n",
    "**Example 3:**\\\n",
    "Input:\\\n",
    "\"ijkl\"\\\n",
    "\"ABCDENDFGH\"\n",
    "\n",
    "Output:\\\n",
    "iAjBkClDENDFGH\n",
    "\n",
    "=====================================================================\n",
    "\n",
    "\n",
    "\n",
    "\n"
   ]
  },
  {
   "cell_type": "code",
   "execution_count": 10,
   "metadata": {
    "id": "kC1cq47myny6"
   },
   "outputs": [
    {
     "name": "stdout",
     "output_type": "stream",
     "text": [
      "abcd\n",
      "ABCD\n",
      "aAbBcCdD\n"
     ]
    }
   ],
   "source": [
    "#Todo\n",
    "\n",
    "word_1 = input()\n",
    "word_2 = input()\n",
    "x = 0\n",
    "y = 0\n",
    "a = \"\"\n",
    "\n",
    "while x < len(word_1) or y < len(word_2):\n",
    "    if x < len(word_1):\n",
    "        a += word_1[x]\n",
    "        x += 1\n",
    "        \n",
    "    if y < len(word_2):\n",
    "        a += word_2[y]\n",
    "        y += 1\n",
    "        \n",
    "print(a)"
   ]
  },
  {
   "cell_type": "markdown",
   "metadata": {
    "id": "AWQJrJW3U1y3"
   },
   "source": [
    "### Task6\n",
    "Given a string, create a new string with all the consecutive duplicates **removed**. \n",
    "\n",
    "=====================================================================\n",
    "\n",
    "**Hint:** You need to make a new string to store your answer. Check whether the current character and the next character are the same, then add that character to the answer.\n",
    "\n",
    "=====================================================================\n",
    "\n",
    "**Example:**\\\n",
    "**Input**:\\\n",
    "AAABBBBCDDBBECE\\\n",
    "**Output:**\\\n",
    "ABCDBECE\n",
    "\n",
    "\n",
    "\n"
   ]
  },
  {
   "cell_type": "code",
   "execution_count": 6,
   "metadata": {
    "id": "oNv_JNgUU1y4"
   },
   "outputs": [
    {
     "name": "stdout",
     "output_type": "stream",
     "text": [
      "AAABBBBCDDBBECE\n",
      "ABCDBECE\n"
     ]
    }
   ],
   "source": [
    "#Todo\n",
    "x = input()\n",
    "y = \"\"\n",
    "\n",
    "for i in range (len(x)-1):\n",
    "    if x[i] != x[i+1]:\n",
    "        y = y + x[i]\n",
    "        \n",
    "if x[-1] != x[-2]:\n",
    "    y = y + x[-1]\n",
    "    \n",
    "print(y)"
   ]
  },
  {
   "cell_type": "markdown",
   "metadata": {
    "id": "ptcRoNgKzG9-"
   },
   "source": [
    "### Task7\n",
    "\n",
    "Write a Python program that takes a string as an input from the user. Then checks whether the input is a palindrome or Not.\n",
    "\n",
    "==========================================\n",
    "\n",
    "*Hints(1): Check the characters from the starting point and the ending point*\n",
    "\n",
    "==========================================\n",
    "\n",
    "**Sample Input**<br/>\n",
    "1235321<br/>\n",
    "\n",
    "**Sample Output**<br/>\n",
    "Palindrome<br/>\n",
    "\n",
    "\n",
    "==========================================\n",
    "\n",
    "**Sample Input**<br/>\n",
    "1233521<br/>\n",
    "\n",
    "**Sample Output**<br/>\n",
    "Not a Palindrome<br/>\n",
    "\n",
    "==========================================\n",
    "\n",
    "**Sample Input**<br/>\n",
    "abcba<br/>\n",
    "\n",
    "**Sample Output**<br/>\n",
    "Palindrome<br/>\n"
   ]
  },
  {
   "cell_type": "code",
   "execution_count": 12,
   "metadata": {
    "id": "v0DzroXdzNeM"
   },
   "outputs": [
    {
     "name": "stdout",
     "output_type": "stream",
     "text": [
      "11223452\n",
      "Not a Palindrome \n"
     ]
    }
   ],
   "source": [
    "#Todo\n",
    "\n",
    "Palindrome = input()\n",
    "count = -1\n",
    "check = True\n",
    "\n",
    "for x in range(len(Palindrome) // 2):\n",
    "    if Palindrome[x] != Palindrome[count]:\n",
    "        print(\"Not a Palindrome \")\n",
    "        check = False\n",
    "        break\n",
    "    count = count -1\n",
    "    \n",
    "if check == True:\n",
    "    print(\"Palindrome\")"
   ]
  },
  {
   "cell_type": "markdown",
   "metadata": {
    "id": "vHRyG1W3zOBU"
   },
   "source": [
    "### Task8\n",
    "\n",
    "Write a Python program that takes a string as an input from the user. Then checks whether the input is a number, word or mixed with digit and letters. \n",
    "\n",
    "* If all the characters are numeric values, print NUMBER. \n",
    "* If they are all letters, print WORD. \n",
    "* If it is mixed, print MIXED.\n",
    "\n",
    "\n",
    "==========================================\n",
    "\n",
    "*Hints: need to take all the alphabets in either uppercase or lower case. Flags/counters can be used to check the different categorories*\n",
    "\n",
    "==========================================\n",
    "\n",
    "**Sample Input**\n",
    "213213\n",
    "\n",
    "**Sample Output**\n",
    "NUMBER\n",
    "\n",
    "\n",
    "==========================================\n",
    "\n",
    "**Sample Input**\n",
    "jhg231j213\n",
    "\n",
    "**Sample Output**\n",
    "MIXED\n",
    "\n",
    "==========================================\n",
    "\n",
    "**Sample Input**\n",
    "Hello\n",
    "\n",
    "**Sample Output**\n",
    "WORD\n"
   ]
  },
  {
   "cell_type": "code",
   "execution_count": 17,
   "metadata": {
    "id": "jRMkFIk20hwL"
   },
   "outputs": [
    {
     "name": "stdout",
     "output_type": "stream",
     "text": [
      "jsk221j\n",
      "MIXED\n"
     ]
    }
   ],
   "source": [
    "#todo\n",
    "\n",
    "x = input()\n",
    "length = len(x)\n",
    "y = x.lower()\n",
    "number = 0\n",
    "letter = 0\n",
    "\n",
    "for i in range (length):\n",
    "    a = ord(y[i])\n",
    "    if a > 47 and a < 58:\n",
    "        number += 1\n",
    "        \n",
    "    elif a > 96 and a < 123:\n",
    "        letter += 1\n",
    "        \n",
    "if number > 0 and letter > 0:\n",
    "    print(\"MIXED\")\n",
    "\n",
    "elif number > 0 and letter == 0:\n",
    "    print(\"NUMBER\")\n",
    "    \n",
    "elif letter > 0 and number == 0:\n",
    "    print(\"WORD\")"
   ]
  },
  {
   "cell_type": "markdown",
   "metadata": {
    "id": "4zI6tmFN0i4y"
   },
   "source": [
    "### Task09\n",
    "\n",
    "Write a python program that takes 2 inputs from the user, where the first input is a string with length greater than 1. The second input is the index of the first given string from where you have to start reversing. Then print the new string back to the user.\n",
    "\n",
    "========================================\n",
    "\n",
    "**Sample Input**<br/>\n",
    "72418, 4<br/>\n",
    "**Sample Output**<br/>\n",
    "81427<br/>\n",
    "\n",
    "\n",
    "========================================\n",
    "\n",
    "**Sample Input**<br/>\n",
    "12345, 2<br/>\n",
    "**Sample Output**<br/>\n",
    "32145<br/>\n",
    "\n",
    "========================================\n",
    "\n",
    "**Sample Input**<br/>\n",
    "aBcd1234defg, 5<br/>\n",
    "**Sample Output**<br/>\n",
    "21dcBa34defg<br/>"
   ]
  },
  {
   "cell_type": "code",
   "execution_count": 29,
   "metadata": {
    "id": "lModRb2L0oqS"
   },
   "outputs": [
    {
     "name": "stdout",
     "output_type": "stream",
     "text": [
      "aBcd1234defg\n",
      "5\n",
      "21dcBa34defg"
     ]
    }
   ],
   "source": [
    "#todo\n",
    "\n",
    "a = input()\n",
    "b = int(input())\n",
    "\n",
    "for index in range(b,-1,-1):\n",
    "    print(a[index],end = \"\")\n",
    "    \n",
    "for index in range (b+1,len(a),1):\n",
    "    print(a[index],end = \"\")"
   ]
  },
  {
   "cell_type": "markdown",
   "metadata": {
    "id": "mwnPD6m-U1y9"
   },
   "source": [
    "## Part 2: List\n"
   ]
  },
  {
   "cell_type": "markdown",
   "metadata": {
    "id": "lPoDvm8YU1y9"
   },
   "source": [
    "### Task 10\n",
    "Write a Python program that reads 10 numbers from the user. After reading each number, print all the numbers that have been entered so far. \n",
    "\n",
    "**Example:**\\\n",
    "After the user enters 3, prints “So far in the list: [3]”\\\n",
    "After the user enters 5, prints “So far in the list: [3, 5]”\\\n",
    "After the user enters 34, prints “So far in the list: [3, 5, 34]”\\\n",
    ".... continues"
   ]
  },
  {
   "cell_type": "code",
   "execution_count": 14,
   "metadata": {
    "id": "z26BN9B3U1y_"
   },
   "outputs": [
    {
     "name": "stdout",
     "output_type": "stream",
     "text": [
      "Enter the number: 5\n",
      "So far in the list:  [5]\n",
      "Enter the number: 8\n",
      "So far in the list:  [5, 8]\n",
      "Enter the number: 10\n",
      "So far in the list:  [5, 8, 10]\n"
     ]
    }
   ],
   "source": [
    "#Todo\n",
    "\n",
    "list = []\n",
    "\n",
    "for i in range(3):\n",
    "    x = int(input(\"Enter the number: \"))\n",
    "    list.append(x)\n",
    "    print(\"So far in the list: \",list)"
   ]
  },
  {
   "cell_type": "markdown",
   "metadata": {
    "id": "ZrjtT-I_U1zD"
   },
   "source": [
    "### Task 11\n",
    "Assume, you have been given a list.\n",
    "\n",
    "a_list =  [10, 20, 24, 25, 26, 35, 70]\n",
    "\n",
    "Write a Python program that creates a new list excluding the first and last two elements of the given list and prints the new list. \n",
    "\n",
    "**Output:** [24, 25, 26]\n",
    "\n",
    "==========================================\n",
    "\n",
    "**Hint:**You need to use list slicing.\n"
   ]
  },
  {
   "cell_type": "code",
   "execution_count": 15,
   "metadata": {
    "id": "3r7Ripj7U1zE"
   },
   "outputs": [
    {
     "name": "stdout",
     "output_type": "stream",
     "text": [
      "[24, 25, 26]\n"
     ]
    }
   ],
   "source": [
    "#Todo\n",
    "\n",
    "x = [10,20,24,25,26,35,70]\n",
    "\n",
    "list = x[2:5:1]\n",
    "\n",
    "print(list)"
   ]
  },
  {
   "cell_type": "markdown",
   "metadata": {
    "id": "AWgZaBZCzmaM"
   },
   "source": [
    "### Task 12\n",
    "\n",
    "Write a python program that reads 5 numbers from the user, and then prints them in the reverse order.\n",
    "\n",
    "==========================================\n",
    "\n",
    "*Hint:You need to create a list to store the input numbers. Then use loop to print them in reverse order*\n",
    "\n",
    "\n",
    "==========================================\n",
    "\n",
    "**Sample Input**\n",
    "5, -5, 100, 1, 0\n",
    "\n",
    "**Sample Output**\\\n",
    "0\\\n",
    "1\\\n",
    "100\\\n",
    "-5\\\n",
    "5"
   ]
  },
  {
   "cell_type": "code",
   "execution_count": 7,
   "metadata": {
    "id": "ICW-03YOznTp"
   },
   "outputs": [
    {
     "name": "stdout",
     "output_type": "stream",
     "text": [
      "2\n",
      "4\n",
      "8\n",
      "6\n",
      "1\n",
      "1\n",
      "6\n",
      "8\n",
      "4\n",
      "2\n"
     ]
    }
   ],
   "source": [
    "#todo\n",
    "\n",
    "list = []\n",
    "for x in range(5):\n",
    "    a = int(input())\n",
    "    list.append(a)\n",
    "    \n",
    "for x in range(len(list)-1,-1,-1):\n",
    "    print(list[x])"
   ]
  },
  {
   "cell_type": "markdown",
   "metadata": {
    "id": "7a_1pYjfU1zI"
   },
   "source": [
    "### Task 13\n",
    "Assume, you have been given two lists. \n",
    "\n",
    "list_one = [1, 2, 3, 4, 5, 6, 7, 8, 9]\\\n",
    "list_two = [10, 11, 12, -13, -14, -15, -16]\n",
    "\n",
    "Write a Python program that creates a new list with all the **even elements** of both of the given lists and prints the new list.\n",
    "\n",
    "\n",
    "**Output:** [2, 4, 6, 8, 10, 12, -14, -16]\n",
    "\n",
    "==========================================\n",
    "\n",
    "**Hint:** You need to create a third list to store the even elements of the given lists.\n",
    "\n"
   ]
  },
  {
   "cell_type": "code",
   "execution_count": 1,
   "metadata": {
    "id": "vToa7yazU1zI"
   },
   "outputs": [
    {
     "name": "stdout",
     "output_type": "stream",
     "text": [
      "[2, 4, 6, 8, 10, 12, -14, -16]\n"
     ]
    }
   ],
   "source": [
    "#Todo\n",
    "\n",
    "list_one = [1,2,3,4,5,6,7,8,9]\n",
    "list_two = [10,11,12,-13,-14,-15,-16]\n",
    "\n",
    "list = []\n",
    "\n",
    "for x in list_one:\n",
    "    if x % 2 == 0:\n",
    "        list.append(x)\n",
    "        \n",
    "for x in list_two:\n",
    "    if x % 2 == 0:\n",
    "        list.append(x)\n",
    "        \n",
    "print(list)"
   ]
  },
  {
   "cell_type": "markdown",
   "metadata": {
    "id": "QaD4hLn92EKT"
   },
   "source": [
    "### Task 14\n",
    "\n",
    "Write a Python program to print the elements in a given list **without the duplicates**.\n",
    "\n",
    "===================================================================\n",
    "\n",
    "*Hint:You need to create a third list to store the results. Use membership operators (in, not in) to make sure no duplicates are added.*\n",
    "\n",
    "===================================================================\n",
    "\n",
    "**Sample Input**<br/>\n",
    "0, 0, 1, 2, 3, 4, 4, 5, 6, 6, 6, 7, 8, 9, 4, 4<br/>\n",
    "\n",
    "\n",
    "**Sample Output**<br/>\n",
    "[0, 1, 2, 3, 4, 5, 6, 7, 8, 9]<br/>\n",
    "\n",
    "===================================================================\n",
    "\n",
    "**Sample Input**<br/>\n",
    "7, 7, 7, 1, 0, 3, 3, 55, 9<br/>\n",
    "\n",
    "\n",
    "**Sample Output**<br/>\n",
    "[7, 1, 0, 3, 55, 9]<br/>\n",
    "\n"
   ]
  },
  {
   "cell_type": "code",
   "execution_count": 24,
   "metadata": {
    "id": "EUbQbz5hU1zP"
   },
   "outputs": [
    {
     "name": "stdout",
     "output_type": "stream",
     "text": [
      "7\n",
      "6\n",
      "4\n",
      "6\n",
      "3\n",
      "11\n",
      "8\n",
      "86\n",
      "[6, 4, 3, 11, 8, 86]\n"
     ]
    }
   ],
   "source": [
    "#Todo\n",
    "\n",
    "n = int(input())\n",
    "\n",
    "list_1 = []\n",
    "list_2 = []\n",
    "\n",
    "for i in range(n):\n",
    "    x = int(input())\n",
    "    list_1.append(x)\n",
    "    \n",
    "for i in list_1:\n",
    "    if i not in list_2:\n",
    "        list_2.append(i)\n",
    "        \n",
    "print(list_2)"
   ]
  },
  {
   "cell_type": "markdown",
   "metadata": {
    "id": "wfcSytFVU1zU"
   },
   "source": [
    "### Task 15\n",
    "\n",
    "Write a Python program that reads 5 numbers into a list and prints the largest number and its location on the list. <font color='red'>[You are not allowed to use the max(), sort(), sorted() function here]</font>\n",
    "\n",
    "==========================================\n",
    "\n",
    "**Hint:**\\\n",
    " Assume, the first input to be the largest value initially and the location of first input which is 0 to be the initial value of the largest value’s location.\n",
    "You need to be careful while printing the output. Depending on your code might need data conversion.\n",
    "\n",
    "==========================================\n",
    "\n",
    "\n",
    "**Example:**\\\n",
    "**Input:**\\\n",
    " 7, 13, 2, 10, 6\n",
    "\n",
    "**Output:**\\\n",
    "list: [7, 13, 2, 10, 6]\\\n",
    "Largest number 13 was found at location 1.\n",
    "\n",
    "\n"
   ]
  },
  {
   "cell_type": "code",
   "execution_count": 22,
   "metadata": {
    "id": "kXbEh1t3U1zV"
   },
   "outputs": [
    {
     "name": "stdout",
     "output_type": "stream",
     "text": [
      "7\n",
      "13\n",
      "2\n",
      "10\n",
      "6\n",
      "list:  [7, 13, 2, 10, 6]\n",
      "Largest number 13 was found at location 1\n"
     ]
    }
   ],
   "source": [
    "#Todo\n",
    "\n",
    "list = []\n",
    "n = int(input())\n",
    "list.append(n)\n",
    "a = n\n",
    "x = 0\n",
    "\n",
    "for i in range(1,5):\n",
    "    n = int(input())\n",
    "    list.append(n)\n",
    "    \n",
    "    if n > a:\n",
    "        a = n\n",
    "        x = i\n",
    "        \n",
    "print(\"list: \",list)\n",
    "print(\"Largest number\",a,\"was found at location\",x)"
   ]
  },
  {
   "cell_type": "markdown",
   "metadata": {
    "id": "WZXnxHTdGrMC"
   },
   "source": [
    "## Optional Tasks (16-20) [Ungraded]"
   ]
  },
  {
   "cell_type": "markdown",
   "metadata": {
    "id": "lvSiLaobU1zY"
   },
   "source": [
    "### Task 16\n",
    "\n",
    "Write a Python program that reads 5 numbers into a list and prints the smallest and largest number and their location in the list. <font color='red'>[You are not allowed to use the max(), min(), sort(), sorted() functions here]</font>\n",
    "\n",
    "==========================================\n",
    "\n",
    "**Hint:**\\\n",
    " Assume, the first input to be the largest value and the location of the first input which is 0 to be the initial value of the largest value’s location. Similarly, assume the first input to be the smallest value and the location of the first input which is 0 to be the initial value of the smallest value’s location.\n",
    "You need to be careful while printing the output. Depending on your code might need data conversion.\n",
    "\n",
    "==========================================\n",
    "\n",
    "**Example:**\n",
    "\n",
    "**Input:**\\\n",
    "7, 13, -5, 10, 6\n",
    "\n",
    "**Output:**\\\n",
    "List: [7, 13, -5, 10, 6]\\\n",
    "Smallest number -5 was found at location 2\\\n",
    "Largest number 13 was found at location 1\n",
    "\n",
    "\n"
   ]
  },
  {
   "cell_type": "code",
   "execution_count": null,
   "metadata": {
    "id": "yiS5TWSDU1zY"
   },
   "outputs": [],
   "source": [
    "#Todo"
   ]
  },
  {
   "cell_type": "markdown",
   "metadata": {
    "id": "nwRZ3_0tC3fq"
   },
   "source": [
    "### Task17\n",
    "\n",
    "\n",
    "Write a python program that takes a string as an input from the user. Then modifies the string in such a way that the string always starts with an uppercase letter and the case of each subsequent letter is the opposite of the previous letter.  Then finally prints back the the modified string to the user.\n",
    "\n",
    "\n",
    "==========================================\n",
    "\n",
    "**Sample Input**\\\n",
    "Python programming is very easy\n",
    "\n",
    "**Sample Output**\\\n",
    "PyThOn PrOgRaMmInG iS vErY eAsY\n",
    "\n",
    "==========================================\n",
    "\n",
    "**Sample Input**\\\n",
    "I&nbsp;&nbsp;&nbsp;&nbsp;&nbsp;&nbsp;     love       &nbsp;&nbsp;&nbsp;&nbsp;&nbsp;&nbsp;&nbsp; Python &nbsp;&nbsp;&nbsp;&nbsp;&nbsp;&nbsp;&nbsp;&nbsp;Programming\n",
    "\n",
    "**Sample Output**\\\n",
    "I&nbsp;&nbsp;&nbsp;&nbsp;&nbsp;&nbsp;     lOvE       &nbsp;&nbsp;&nbsp;&nbsp;&nbsp;&nbsp;&nbsp;pYtHoN&nbsp;&nbsp;&nbsp;&nbsp;&nbsp;&nbsp;&nbsp;&nbsp;pRoGrAmMiNg\n",
    "\n",
    "==========================================\n",
    "\n",
    "**Sample Input**\\\n",
    "CSE110 Course\n",
    "\n",
    "**Sample Output**\\\n",
    "CsE110 cOuRsE\n",
    "\n",
    "\n",
    "\n",
    "==========================================\n",
    "\n",
    "**Sample Input**\\\n",
    "c\n",
    "\n",
    "**Sample Output**\\\n",
    "C\n",
    "\n",
    "\n"
   ]
  },
  {
   "cell_type": "code",
   "execution_count": null,
   "metadata": {
    "id": "LEnaTlyoMJdS"
   },
   "outputs": [],
   "source": [
    "#todo"
   ]
  },
  {
   "cell_type": "markdown",
   "metadata": {
    "id": "EEkcqbIJBKel"
   },
   "source": [
    "### Task 18 \n",
    "An anagram is a play on words created by rearranging the letters of the original word to make a new word or phrase.\n",
    "So we can say two words are anagrams if they contain all of the same letters, but in a different order.\n",
    "\n",
    "\n",
    "Write a python program that takes two strings from the user and tells if they are anagram or not.\n",
    "\n",
    "===============================\n",
    "\n",
    "<b>Input 1 </b><br/>\n",
    "dusty<br/>\n",
    "study<br/>\n",
    "<b> Output 1 </b> <br/>\n",
    "They are anagram<br/>\n",
    "\n",
    "===============================\n",
    "\n",
    "<b> Input 2 </b><br/>\n",
    "dustyyy<br/>\n",
    "study<br/>\n",
    "<b> Output 2 </b><br/>\n",
    "They are not anagram"
   ]
  },
  {
   "cell_type": "code",
   "execution_count": null,
   "metadata": {
    "id": "dvjY9pE2BLVT"
   },
   "outputs": [],
   "source": [
    "# to do"
   ]
  },
  {
   "cell_type": "markdown",
   "metadata": {
    "id": "rguDZ8SBCHD8"
   },
   "source": [
    "### Task 19\n",
    "Write a Python program that takes two lists as an input from the user. Then print a new list with the **common elements** of both the input lists. \n",
    "\n",
    "=======================================\n",
    "\n",
    "*Hint:You need to create a third list to store the results. Use membership operators (in, not in) to make sure similar elements are added.*\n",
    "\n",
    "=======================================\n",
    "\n",
    "**Sample Input**<br/>\n",
    "A, B, C , D\n",
    "\n",
    "\n",
    "C, E , F, B\n",
    "\n",
    "\n",
    "**Sample Output**<br/>\n",
    "['C', 'B']\n",
    "\n",
    "=======================================\n",
    "\n",
    "**Sample Input**<br/>\n",
    "1, 3, A, H, P\n",
    "\n",
    "\n",
    "A, G, 1, P, O\n",
    "\n",
    "\n",
    "**Sample Output**<br/>\n",
    "['1', 'A', 'P']\n",
    "\n",
    "\n"
   ]
  },
  {
   "cell_type": "code",
   "execution_count": null,
   "metadata": {
    "id": "3iueGiPPGG66"
   },
   "outputs": [],
   "source": [
    "# to do"
   ]
  },
  {
   "cell_type": "markdown",
   "metadata": {
    "id": "tjcE5oitCM2s"
   },
   "source": [
    "### Task 20\n",
    "\n",
    "Assume, you have been given two lists.\n",
    "\n",
    "[Your program should work for any two given lists]\n",
    "\n",
    "list_one = [1, 2 , 3, 2, 4, 5, 5, 7, 99, 200, 303, 70]\\\n",
    "list_two = [1, 1, 2, 3, 3, 3, 4, 5, 200, 500, -5]\n",
    "\n",
    "Write a Python program that creates a new list with all the **unique elements** of both the given lists. \n",
    "<font color='red'> **You need to make sure that no duplicates are in the result list**</font> and then finally print the result list.\n",
    "\n",
    "**Output**: \n",
    "[1, 2, 4, 5, 7, 99, 200, 303, 70, 3, 500, -5]\n",
    "\n",
    "**Hint:**You need to create a third list to store the results. Use membership operators (in, not in) to make sure no duplicates are added.\n",
    "\n"
   ]
  },
  {
   "cell_type": "code",
   "execution_count": null,
   "metadata": {
    "id": "b2TwkUqnGZU-"
   },
   "outputs": [],
   "source": []
  }
 ],
 "metadata": {
  "colab": {
   "collapsed_sections": [],
   "name": "CSE110 Assignment03 (String-List).ipynb",
   "provenance": []
  },
  "kernelspec": {
   "display_name": "Python 3",
   "language": "python",
   "name": "python3"
  },
  "language_info": {
   "codemirror_mode": {
    "name": "ipython",
    "version": 3
   },
   "file_extension": ".py",
   "mimetype": "text/x-python",
   "name": "python",
   "nbconvert_exporter": "python",
   "pygments_lexer": "ipython3",
   "version": "3.8.3"
  }
 },
 "nbformat": 4,
 "nbformat_minor": 1
}
