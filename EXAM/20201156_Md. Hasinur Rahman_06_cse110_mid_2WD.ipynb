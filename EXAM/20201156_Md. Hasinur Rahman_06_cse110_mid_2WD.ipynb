{
 "cells": [
  {
   "cell_type": "markdown",
   "metadata": {
    "colab_type": "text",
    "id": "0ZcT5c9CjT8P"
   },
   "source": [
    "# FALL 2020\n",
    "\n",
    "# CSE110 MID\n",
    "**<font color='red'>[MUST MAINTAIN VARIABLE NAMING CONVENTIONS FOR ALL THE TASKS]</font>**\n",
    "\n",
    "**<font color='red'>[Writing comments(explanatory sentences) in any of the code is completely optional]</font>**"
   ]
  },
  {
   "cell_type": "markdown",
   "metadata": {
    "colab_type": "text",
    "id": "hQCnOmw6iWER"
   },
   "source": [
    "# Task 01\n",
    "Write a python program that asks the user to give scores of 3 sections of the IELTS exam (reading, writing, and speaking). The valid score for each section is from 0(inclusive) to 9(inclusive). Thus the valid range of the IELTS average score is from 0(inclusive) to 9(inclusive).\n",
    "\n",
    "Then your program should print the average of the given scores as well as the information according to the provided chart below. \n",
    "\n",
    "|Average score|Information to be printed|\n",
    "|------|------|\n",
    "|Less than 6  |Retake the exam\n",
    "|Greater than 6 and less than 8 |Good user\n",
    "|Equal to 8|Very good user\n",
    "|Above 8|Expert user\n",
    "|For any invalid inputs (out of valid range) |Impossible score!!\n",
    "\n",
    "\n",
    " ==========================================\n",
    "\n",
    "**Sample input 1:**\\\n",
    "8\\\n",
    "7\\\n",
    "6\n",
    "\n",
    "\n",
    "**Sample output 1:**\\\n",
    "Average score is: 7.0\\\n",
    "Good user\n",
    "\n",
    "\n",
    "\n",
    "**Explanation:**\\\n",
    "Here, reading = 8, writing = 7, and speaking = 6.\\\n",
    "Average = (8+7+6)/3 is 7.0 which falls under the “Greater than 6 and less than 8” section, so prints “Good user”.\n",
    "\n",
    "\n",
    " ==========================================\n",
    "\n",
    "**Sample input 2:**\\\n",
    "8\\\n",
    "10\\\n",
    "6\n",
    "\n",
    "\n",
    "**Sample output 2:**\\\n",
    "Impossible score!!\n",
    "\n",
    "**Explanation:**\\\n",
    "Here, reading = 8, writing = 10, and speaking = 6.\\\n",
    "writing = 10 does not fall under the valid range of 0 to 9. Thus it prints “Impossible score!!”\n",
    "\n",
    "\n"
   ]
  },
  {
   "cell_type": "code",
   "execution_count": 1,
   "metadata": {
    "colab": {},
    "colab_type": "code",
    "id": "P0vIwmbeiWEU"
   },
   "outputs": [
    {
     "name": "stdout",
     "output_type": "stream",
     "text": [
      "6\n",
      "7\n",
      "6\n",
      "Average score is: 6.0\n",
      "Retake the exam\n"
     ]
    }
   ],
   "source": [
    "#task 1\n",
    "#to do\n",
    "\n",
    "a =int(input())\n",
    "b = int(input())\n",
    "c =int(input())\n",
    "\n",
    "x =a + b + c\n",
    "y = x//3\n",
    "\n",
    "if a<10 and b<10 and c<10:\n",
    "    print(\"Average score is:\",float(y))\n",
    "    \n",
    "    if 0 <= y<7:\n",
    "        print(\"Retake the exam\")\n",
    "        \n",
    "    elif y == 7:\n",
    "        print(\"Good user\")\n",
    "        \n",
    "    elif y == 8:\n",
    "        print(\"Very good user\")\n",
    "        \n",
    "    elif 8 < y <10:\n",
    "        print(\"Expert user\")\n",
    "        \n",
    "    else:\n",
    "        print(\"Impossible score!!\")\n",
    "        \n",
    "else:\n",
    "    print(\"Impossible score!!\")"
   ]
  },
  {
   "cell_type": "markdown",
   "metadata": {
    "colab_type": "text",
    "id": "zUyYKkWViWEd"
   },
   "source": [
    "# Task 02\n",
    "Write a python program that will take a String as input from the user. Then it will print \"Found\", if the input string contains **3 consecutive even numbers**, otherwise print \"Not Found\". The inputs will contain digits (0-9) only.\n",
    "\n",
    "**<font color='red'>[You cannot use any built in function except input(), print(), len(String), ord(String), chr(int).]</font>**\n",
    "\n",
    "\n",
    " ================================\n",
    "\n",
    "**Sample input 1:**\\\n",
    "92514788 \\\n",
    "**Sample output 1:**\\\n",
    "Not Found\\\n",
    "**Explanation:**\\\n",
    "No 3 consecutive even numbers are found. So, the output is \"Not Found\".\n",
    "\n",
    "\n",
    " ================================\n",
    "\n",
    "\n",
    "**Sample input 2:**\\\n",
    "724615  \\\n",
    "**Sample output 2:**\\\n",
    "Found\\\n",
    "**Explanation:**\\\n",
    "Starting from index 1, (2,4, 6) are  3 consecutive even numbers. So, the output is \"Found\".\n",
    "\n",
    "\n",
    " ================================\n",
    "\n",
    "\n",
    "\n",
    "**Sample input 3:**\\\n",
    "5822223   \\\n",
    "**Sample output 3:**\\\n",
    "Found\\\n",
    "**Explanation:**\\\n",
    "Starting from index 2, (2, 2, 2) are  3 consecutive even numbers. So, the output is \"Found\".\n",
    "\n",
    " ================================"
   ]
  },
  {
   "cell_type": "code",
   "execution_count": 13,
   "metadata": {
    "colab": {},
    "colab_type": "code",
    "id": "_oEJ6XwgiWEh"
   },
   "outputs": [
    {
     "name": "stdout",
     "output_type": "stream",
     "text": [
      "92514788\n",
      "Not Found\n"
     ]
    }
   ],
   "source": [
    "#task 2\n",
    "#to do\n",
    "\n",
    "string=input()\n",
    "even=0\n",
    "\n",
    "for i in range(0,len(string)-2):\n",
    "    if int(string[i])%2==0:\n",
    "        if int(string[i+1])==int(string[i])+2 or int(string[i+1])==int(string[i]):\n",
    "            if int(string[i+2])==int(string[i+1])+2 or int(string[i+2])==int(string[i+1]):\n",
    "                even=1\n",
    "                \n",
    "if even==1:\n",
    "    print('Found')\n",
    "    \n",
    "else:\n",
    "    print('Not Found')"
   ]
  },
  {
   "cell_type": "markdown",
   "metadata": {
    "colab_type": "text",
    "id": "CEhXrQIhiWEo"
   },
   "source": [
    "# Task 03\n",
    "\n",
    "Write a python program that takes a string as input from the user which is a combination of alphabets and numbers. Find the alphabets from that input string and store them in a list. Finally, print the list and the character that has the **maximum** ascii value.\n",
    "\n",
    "**<font color='red'>[You are not allowed to use the built-in max() function of Python.]</font>**\n",
    "\n",
    " ================================\n",
    "\n",
    "**Sample input 1:**\\\n",
    "lgt567892pa \\\n",
    "**Sample output 1:**\\\n",
    "['l', 'g', 't', 'p', 'a']\\\n",
    "Character with maximum ASCII value is: t\n",
    "\n",
    "**Explanation:**\\\n",
    "ASCII value of 'l' is 108, 'g' is 103, 't' is 116, 'p' is 112, 'a' is 97. So, the character with maximum ASCII value is: t (116)\n",
    "\n",
    " ================================\n",
    "\n",
    "**Sample input 1:**\\\n",
    "oje54x217ws\\\n",
    "**Sample output 1:**\\\n",
    "['o', 'j', 'e', 'x', 'w', 's']\\\n",
    "Character with maximum ASCII value is: x\n",
    "\n",
    "**Explanation:**\\\n",
    "ASCII value of 'x' is 120, 'o' is 111,  'j' is 106, 'e' is 101,  'w' is 119 and 's' is 115. So, the character with maximum ASCII value is: x (120).\n",
    "\n",
    " ================================\n",
    "\n",
    "\n"
   ]
  },
  {
   "cell_type": "code",
   "execution_count": 3,
   "metadata": {
    "colab": {},
    "colab_type": "code",
    "id": "gWQIR06LiWEp"
   },
   "outputs": [
    {
     "name": "stdout",
     "output_type": "stream",
     "text": [
      "oje54x217ws\n",
      "['o', 'j', 'e', 'x', 'w', 's']\n",
      "Character with maximum ASCII value is: x\n"
     ]
    }
   ],
   "source": [
    "#task 3\n",
    "#to do\n",
    "\n",
    "string=input(). lower()\n",
    "list=[]\n",
    "\n",
    "\n",
    "for x in string:\n",
    "    if ord(x)>=97 and ord(x)<=122:\n",
    "        list.append(x)\n",
    "        \n",
    "print(list)\n",
    "a = 0\n",
    "\n",
    "for y in list:\n",
    "    if ord(y)>a:\n",
    "        a = ord(y)\n",
    "        \n",
    "print('Character with maximum ASCII value is:',chr(a))"
   ]
  },
  {
   "cell_type": "code",
   "execution_count": null,
   "metadata": {},
   "outputs": [],
   "source": []
  }
 ],
 "metadata": {
  "colab": {
   "collapsed_sections": [],
   "name": "set 02.ipynb",
   "provenance": []
  },
  "kernelspec": {
   "display_name": "Python 3",
   "language": "python",
   "name": "python3"
  },
  "language_info": {
   "codemirror_mode": {
    "name": "ipython",
    "version": 3
   },
   "file_extension": ".py",
   "mimetype": "text/x-python",
   "name": "python",
   "nbconvert_exporter": "python",
   "pygments_lexer": "ipython3",
   "version": "3.8.3"
  }
 },
 "nbformat": 4,
 "nbformat_minor": 1
}
