{
 "cells": [
  {
   "cell_type": "markdown",
   "metadata": {},
   "source": [
    "# Task 1"
   ]
  },
  {
   "cell_type": "code",
   "execution_count": 6,
   "metadata": {},
   "outputs": [
    {
     "name": "stdout",
     "output_type": "stream",
     "text": [
      "67\n"
     ]
    }
   ],
   "source": [
    "#Write your code of task 1 here\n",
    "\n",
    "def function_name(x,y,z):\n",
    "    sum = x+y+z\n",
    "    \n",
    "    if(x < y):\n",
    "        small = x\n",
    "        large = y\n",
    "        \n",
    "    else:\n",
    "        small = y\n",
    "        large = x\n",
    "        \n",
    "    if(small > z):\n",
    "        small = z\n",
    "        \n",
    "    elif(large < z):\n",
    "        large = z\n",
    "    \n",
    "    print(sum - large - small)\n",
    "\n",
    "\n",
    "function_name(12,90,67)"
   ]
  },
  {
   "cell_type": "markdown",
   "metadata": {},
   "source": [
    "# Task 2"
   ]
  },
  {
   "cell_type": "code",
   "execution_count": 1,
   "metadata": {},
   "outputs": [
    {
     "name": "stdout",
     "output_type": "stream",
     "text": [
      "{'C': 3, 'S': 9, 'E': 7}\n"
     ]
    }
   ],
   "source": [
    "#Write your code of taske 2 here\n",
    "\n",
    "char_frequency = \"Today is my CSE110 quiz. I am worried. But there is no success without the stress.\"\n",
    "str = char_frequency.upper()\n",
    "frequency = {}\n",
    "\n",
    "x = str.count(\"C\")\n",
    "y = str.count(\"S\")\n",
    "z = str.count(\"E\")\n",
    "\n",
    "frequency [\"C\"] = x\n",
    "frequency [\"S\"] = y\n",
    "frequency [\"E\"] = z\n",
    "\n",
    "print(frequency)"
   ]
  },
  {
   "cell_type": "markdown",
   "metadata": {},
   "source": [
    "Before submitting, save the file name in the following format:\n",
    "\n",
    "\n",
    "    ID_NAME_SECTION_CSE110_QUIZ\n",
    "    \n",
    "    example: 20201999_Shawon_Mostafiz_CSE110_Quiz"
   ]
  },
  {
   "cell_type": "code",
   "execution_count": null,
   "metadata": {},
   "outputs": [],
   "source": []
  }
 ],
 "metadata": {
  "kernelspec": {
   "display_name": "Python 3",
   "language": "python",
   "name": "python3"
  },
  "language_info": {
   "codemirror_mode": {
    "name": "ipython",
    "version": 3
   },
   "file_extension": ".py",
   "mimetype": "text/x-python",
   "name": "python",
   "nbconvert_exporter": "python",
   "pygments_lexer": "ipython3",
   "version": "3.8.3"
  }
 },
 "nbformat": 4,
 "nbformat_minor": 4
}
