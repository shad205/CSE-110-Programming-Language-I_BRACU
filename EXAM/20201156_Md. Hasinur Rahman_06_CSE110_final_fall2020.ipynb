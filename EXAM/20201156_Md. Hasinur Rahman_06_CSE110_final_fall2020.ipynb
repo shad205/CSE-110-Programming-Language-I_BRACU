{
 "cells": [
  {
   "cell_type": "markdown",
   "metadata": {
    "id": "m8sEAZnyvfhU"
   },
   "source": [
    "# Task 1"
   ]
  },
  {
   "cell_type": "code",
   "execution_count": 2,
   "metadata": {
    "id": "Rbo26B5Bvfhc"
   },
   "outputs": [
    {
     "name": "stdout",
     "output_type": "stream",
     "text": [
      "\n",
      "=== Iteration 1 ===\n",
      "\n",
      "1\n",
      "\n",
      "=== Iteration 2 ===\n",
      "\n",
      "X\n",
      "XX\n",
      "\n",
      "=== Iteration 3 ===\n",
      "\n",
      "123\n",
      "123\n",
      "123\n",
      "\n",
      "=== Iteration 4 ===\n",
      "\n",
      "X\n",
      "XX\n",
      "XXX\n",
      "XXXX\n",
      "\n",
      "=== Iteration 5 ===\n",
      "\n",
      "12345\n",
      "12345\n",
      "12345\n",
      "12345\n",
      "12345\n",
      "\n",
      "=== Iteration 6 ===\n",
      "\n",
      "X\n",
      "XX\n",
      "XXX\n",
      "XXXX\n",
      "XXXXX\n",
      "XXXXXX\n",
      "\n",
      "=== Iteration 7 ===\n",
      "\n",
      "1234567\n",
      "1234567\n",
      "1234567\n",
      "1234567\n",
      "1234567\n",
      "1234567\n",
      "1234567\n"
     ]
    }
   ],
   "source": [
    "#Write your code of task 01 here\n",
    "\n",
    "def iteration_1(num):\n",
    "     for index in range(1,num+2):\n",
    "            a = index\n",
    "            str1 = \"\"\n",
    "            \n",
    "            for i in range(1,a):\n",
    "                str1 += \"X\"\n",
    "            print(str1)\n",
    "\n",
    "def iteration_2(num):\n",
    "    for index in range(1,num+1):\n",
    "        str1 = \"\"\n",
    "        \n",
    "        for i in range(1,num+1):\n",
    "            str1 += str(i)\n",
    "        print(str1)\n",
    "            \n",
    "\n",
    "def iteration_3(num1):\n",
    "    num = 1\n",
    "    \n",
    "    while(num <= num1):\n",
    "        \n",
    "        if(num % 2 == 0):\n",
    "            print(f\"\\n=== Iteration {num} ===\")\n",
    "            iteration_1(num)\n",
    "            \n",
    "        else:\n",
    "            print(f\"\\n=== Iteration {num} ===\\n\")\n",
    "            iteration_2(num)\n",
    "            \n",
    "        num = num + 1\n",
    "\n",
    "iteration_3(7)"
   ]
  },
  {
   "cell_type": "markdown",
   "metadata": {
    "id": "xm__iPVgvfhe"
   },
   "source": [
    "# Task 2"
   ]
  },
  {
   "cell_type": "code",
   "execution_count": 6,
   "metadata": {
    "id": "A7IaXd_Uvfhe"
   },
   "outputs": [
    {
     "name": "stdout",
     "output_type": "stream",
     "text": [
      "15 5 3 12 14 24 49 42 \n",
      "{'Divisible by 2': [12, 14, 24, 42], 'Divisible by 3': [15, 3, 12, 24, 42], 'Divisible by 5': [15, 5], 'None': [49]}\n"
     ]
    }
   ],
   "source": [
    "#Write your code of task 02 here\n",
    "\n",
    "user =list(map(int,input().strip().split()))\n",
    "list1 = []\n",
    "list2 = []\n",
    "list3 = []\n",
    "list4 = []\n",
    "dict = {}\n",
    "\n",
    "for index in user:\n",
    "    \n",
    "    if index % 2 == 0:\n",
    "        list1.append(index)\n",
    "    \n",
    "    if index % 3 == 0:\n",
    "        list2.append(index)\n",
    "        \n",
    "    if index % 5 == 0:\n",
    "        list3.append(index)\n",
    "        \n",
    "    if index%2 != 0 and index%3 != 0 and index%5 != 0:\n",
    "        list4.append(index)\n",
    "        \n",
    "dict[\"Divisible by 2\"] = list1\n",
    "dict[\"Divisible by 3\"] = list2\n",
    "dict[\"Divisible by 5\"] = list3\n",
    "dict[\"None\"] = list4\n",
    "\n",
    "print(dict)"
   ]
  },
  {
   "cell_type": "markdown",
   "metadata": {
    "id": "vFdPiJGhvoRH"
   },
   "source": [
    "# Task 03"
   ]
  },
  {
   "cell_type": "code",
   "execution_count": 10,
   "metadata": {
    "id": "9B4Oa0eSvfhf"
   },
   "outputs": [
    {
     "name": "stdout",
     "output_type": "stream",
     "text": [
      "Enter element using space: 2 r 6 7 a 4 b 7 9 c d 5 3 7 0\n",
      "[2, 6, 'r', 7, 4, 'a', 7, 9, 'b', 5, 3, 'c', 7, 0, 'd']\n"
     ]
    }
   ],
   "source": [
    "#Write your code of Task 03 here\n",
    "\n",
    "lst1 = input('Enter element using space: ').split()\n",
    "new = ['0','1','2','3','4','5','6','7','8','9']\n",
    "lst2 = []\n",
    "lst3 = []\n",
    "new_lst = []\n",
    "for i in lst1:\n",
    "    if i in new:\n",
    "        lst2.append(int(i))\n",
    "    else:\n",
    "        lst3.append(i)\n",
    "len1 = len(lst2)\n",
    "len2 = len(lst3)\n",
    "n = 0\n",
    "m = 1\n",
    "k = 2\n",
    "if len1 == (2*len2):\n",
    "    for i in range(len(lst3)):\n",
    "        new_lst.append(lst2[n])\n",
    "        new_lst.append(lst2[m])\n",
    "        new_lst.append(lst3[i])\n",
    "        n += 2\n",
    "        m += 2\n",
    "elif len2 == (3*len1):\n",
    "    for i in range(len1):\n",
    "        new_lst.append(lst3[n])\n",
    "        new_lst.append(lst3[m])\n",
    "        new_lst.append(lst3[k])\n",
    "        new_lst.append(lst2[i])\n",
    "        n += 3\n",
    "        m += 3\n",
    "        k += 3\n",
    "else:\n",
    "    print(lst2)\n",
    "    print(lst3)\n",
    "    \n",
    "print(new_lst)"
   ]
  },
  {
   "cell_type": "markdown",
   "metadata": {
    "id": "172uYouqvfhe"
   },
   "source": [
    "Before submitting, save the file name in the following format:\n",
    "\n",
    "\n",
    "  ID_FullName_SectionNo_CSE110_final.ipynb)   \n",
    "  \n",
    "  example: 20201999_Navid_Ahmed_07_CSE110_final.ipynb"
   ]
  }
 ],
 "metadata": {
  "colab": {
   "collapsed_sections": [],
   "name": "CSE110_final_fall2020.ipynb",
   "provenance": []
  },
  "kernelspec": {
   "display_name": "Python 3",
   "language": "python",
   "name": "python3"
  },
  "language_info": {
   "codemirror_mode": {
    "name": "ipython",
    "version": 3
   },
   "file_extension": ".py",
   "mimetype": "text/x-python",
   "name": "python",
   "nbconvert_exporter": "python",
   "pygments_lexer": "ipython3",
   "version": "3.8.3"
  }
 },
 "nbformat": 4,
 "nbformat_minor": 1
}
